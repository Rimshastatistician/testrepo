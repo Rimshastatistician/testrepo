{
 "cells": [
  {
   "cell_type": "markdown",
   "metadata": {},
   "source": [
    "<center><img src=\"https://cf-courses-data.s3.us.cloud-object-storage.appdomain.cloud/assets/logos/SN_web_lightmode.png\" width=\"300\"></center><br/>\n",
    "\n",
    "# Assignment: Notebook for Peer Assignment\n",
    "\n",
    "Estimated time needed: 60 minutes\n"
   ]
  },
  {
   "cell_type": "markdown",
   "metadata": {},
   "source": [
    "# Assignment Scenario\n",
    "\n",
    "Congratulations! You have just been hired by a US Weather forecast firm as a data scientist.\n",
    "\n",
    "The company is considering the weather condition to help predict the possibility of precipitations, which involves using various local climatological variables, including temperature, wind speed, humidity, dew point, and pressure. The data you will be handling was collected by a NOAA weather station located at the John F. Kennedy International Airport in Queens, New York.\n",
    "\n",
    "Your task is to provide a high level analysis of weather data in JFK Airport. Your stakeholders want to understand the current and historical record of precipitations based on different variables. For now they are mainly interested in a macro-view of JFK Airport Weather, and how it relates to the possibility to rain because it will affect flight delays and etc.\n"
   ]
  },
  {
   "cell_type": "markdown",
   "metadata": {},
   "source": [
    "# Introduction\n",
    "\n",
    "This project relates to the NOAA Weather Dataset - JFK Airport (New York). The original dataset contains 114,546 hourly observations of 12 local climatological variables (such as temperature and wind speed) collected at JFK airport. This dataset can be obtained for free from the IBM Developer [Data Asset Exchange](https://developer.ibm.com/exchanges/data/all/jfk-weather-data/?utm_medium=Exinfluencer&utm_source=Exinfluencer&utm_content=000026UJ&utm_term=10006555&utm_id=NA-SkillsNetwork-Channel-SkillsNetworkCoursesIBMDA0151ENSkillsNetwork926-2022-01-01). \n",
    "\n",
    "For this project, you will be using a subset dataset, which contains 5727 rows (about 5% or original rows) and 9 columns. The end goal will be to predict the precipitation using some of the available features. In this project, you will practice reading data files, preprocessing data, creating models, improving models and evaluating them to ultimately choose the best model.\n",
    "\n"
   ]
  },
  {
   "cell_type": "markdown",
   "metadata": {},
   "source": [
    "\n",
    "## Table of Contents:\n",
    "\n",
    "Using this R notebook you will complete **10 tasks**:\n",
    "* [0. Import Modules](#cell0)\n",
    "* [1. Download and Unzip NOAA Weather Dataset](#cell1)\n",
    "* [2. Read Dataset into Project](#cell2)\n",
    "* [3. Select Subset of Columns](#cell3)\n",
    "* [4. Clean Up Columns](#cell4)\n",
    "* [5. Convert Columns to Numerical Types](#cell5)\n",
    "* [6. Rename Columns](#cell6)\n",
    "* [7. Exploratory Data Analysis](#cell7)\n",
    "* [8. Linear Regression](#cell8)\n",
    "* [9. Improve the Model](#cell9)\n",
    "* [10. Find Best Model](#cell10)\n",
    "\n",
    "\n",
    "<a id=\"cell0\"></a>\n",
    "## 0. Import required modules\n",
    "\n",
    "Below, install \"tidymodels\", additionally \"rlang\" should be updated in order to properly run \"tidymodels\". \n"
   ]
  },
  {
   "cell_type": "code",
   "execution_count": null,
   "metadata": {},
   "outputs": [],
   "source": [
    "# Install tidymodels if you haven't done so\n",
    "install.packages(\"rlang\")\n",
    "install.packages(\"tidymodels\")\n",
    "install.packages(\"tidyverse\")\n",
    "install.packages(\"dplyr\")\n",
    "install.packages(\"ggplot2\")"
   ]
  },
  {
   "cell_type": "markdown",
   "metadata": {},
   "source": [
    "**Note: After installing the packages, restart the kernel. Without installing the packages again, load them. Tidyverse and Tidymodels will be the two main packages you will use.**\n"
   ]
  },
  {
   "cell_type": "code",
   "execution_count": 1,
   "metadata": {},
   "outputs": [
    {
     "name": "stderr",
     "output_type": "stream",
     "text": [
      "── Attaching packages ────────────────────────────────────── tidymodels 0.1.0 ──\n",
      "✔ broom     0.5.6      ✔ recipes   0.1.12\n",
      "✔ dials     0.0.6      ✔ rsample   0.0.5 \n",
      "✔ dplyr     0.8.5      ✔ tibble    3.0.1 \n",
      "✔ ggplot2   3.3.0      ✔ tune      0.1.0 \n",
      "✔ infer     0.5.1      ✔ workflows 0.1.1 \n",
      "✔ parsnip   0.1.0      ✔ yardstick 0.0.6 \n",
      "✔ purrr     0.3.4      \n",
      "── Conflicts ───────────────────────────────────────── tidymodels_conflicts() ──\n",
      "✖ purrr::discard()  masks scales::discard()\n",
      "✖ dplyr::filter()   masks stats::filter()\n",
      "✖ dplyr::lag()      masks stats::lag()\n",
      "✖ ggplot2::margin() masks dials::margin()\n",
      "✖ recipes::step()   masks stats::step()\n",
      "── Attaching packages ─────────────────────────────────────── tidyverse 1.3.0 ──\n",
      "✔ readr   1.3.1     ✔ forcats 0.5.0\n",
      "✔ stringr 1.4.0     \n",
      "── Conflicts ────────────────────────────────────────── tidyverse_conflicts() ──\n",
      "✖ readr::col_factor() masks scales::col_factor()\n",
      "✖ purrr::discard()    masks scales::discard()\n",
      "✖ dplyr::filter()     masks stats::filter()\n",
      "✖ stringr::fixed()    masks recipes::fixed()\n",
      "✖ dplyr::lag()        masks stats::lag()\n",
      "✖ ggplot2::margin()   masks dials::margin()\n",
      "✖ readr::spec()       masks yardstick::spec()\n"
     ]
    }
   ],
   "source": [
    "library(tidymodels)\n",
    "library(tidyverse)\n",
    "library(dplyr)\n",
    "library(stringr)\n",
    "library(ggplot2)"
   ]
  },
  {
   "cell_type": "markdown",
   "metadata": {},
   "source": [
    "\n",
    "### Understand the Dataset\n",
    "\n",
    "The original NOAA JFK dataset contains 114,546 hourly observations of various local climatological variables (including temperature, wind speed, humidity, dew point, and pressure). \n",
    "\n",
    "In this project you will use a sample dataset, which is around 293 KB. [Link to the sample dataset](https://dax-cdn.cdn.appdomain.cloud/dax-noaa-weather-data-jfk-airport/1.1.4/noaa-weather-sample-data.tar.gz).\n",
    "\n",
    "The sample contains 5727 rows (about 5% or original rows) and 9 columns, which are:\n",
    "- DATE\n",
    "- HOURLYDewPointTempF\n",
    "- HOURLYRelativeHumidity\n",
    "- HOURLYDRYBULBTEMPF\n",
    "- HOURLYWETBULBTEMPF\n",
    "- HOURLYPrecip\n",
    "- HOURLYWindSpeed\n",
    "- HOURLYSeaLevelPressure\n",
    "- HOURLYStationPressure\n",
    "\n",
    "The original dataset is much bigger. Feel free to explore the original dataset. [Link to the original dataset.](https://dax-cdn.cdn.appdomain.cloud/dax-noaa-weather-data-jfk-airport/1.1.4/noaa_weather.html) \n",
    "\n",
    "For more information about the dataset, checkout the [preview](https://dax-cdn.cdn.appdomain.cloud/dax-noaa-weather-data-jfk-airport/1.1.4/data-preview/index.html?_ga=2.176781478.281508226.1616293518-1509963377.1616117067&cm_mc_uid=90945889198916153255549&cm_mc_sid_50200000=64650651616293516933) of NOAA Weather - JFK Airport.\n"
   ]
  },
  {
   "cell_type": "markdown",
   "metadata": {},
   "source": [
    "<a id=\"cell1\"></a>\n",
    "\n",
    "## 1. Download NOAA Weather Dataset\n",
    "\n",
    "Use the `download.file()` function to download the sample dataset from the URL below.\n",
    "\n",
    "URL = 'https://dax-cdn.cdn.appdomain.cloud/dax-noaa-weather-data-jfk-airport/1.1.4/noaa-weather-sample-data.tar.gz'\n"
   ]
  },
  {
   "cell_type": "code",
   "execution_count": 4,
   "metadata": {},
   "outputs": [],
   "source": [
    "URL = \"https://dax-cdn.cdn.appdomain.cloud/dax-noaa-weather-data-jfk-airport/1.1.4/noaa-weather-sample-data.tar.gz\"\n",
    "download.file(URL, destfile = \"noaa-weather-sample-data.tar.gz\")"
   ]
  },
  {
   "cell_type": "markdown",
   "metadata": {},
   "source": [
    "Untar the zipped file.\n"
   ]
  },
  {
   "cell_type": "code",
   "execution_count": 5,
   "metadata": {},
   "outputs": [
    {
     "name": "stderr",
     "output_type": "stream",
     "text": [
      "Warning message in untar2(tarfile, files, list, exdir, restore_times):\n",
      "“using pax extended headers”"
     ]
    }
   ],
   "source": [
    "untar(\"noaa-weather-sample-data.tar.gz\", tar = \"internal\")"
   ]
  },
  {
   "cell_type": "markdown",
   "metadata": {},
   "source": [
    "<a id=\"cell2\"></a>\n",
    "## 2. Extract and Read into Project\n",
    "We start by reading in the raw dataset. You should specify the file name as \"noaa-weather-sample-data/jfk_weather_sample.csv\".\n"
   ]
  },
  {
   "cell_type": "code",
   "execution_count": 6,
   "metadata": {},
   "outputs": [],
   "source": [
    "weather<-read.csv(\"noaa-weather-sample-data/jfk_weather_sample.csv\")"
   ]
  },
  {
   "cell_type": "markdown",
   "metadata": {},
   "source": [
    "Next, display the first few rows of the dataframe.\n"
   ]
  },
  {
   "cell_type": "code",
   "execution_count": 7,
   "metadata": {},
   "outputs": [
    {
     "data": {
      "text/html": [
       "<table>\n",
       "<caption>A data.frame: 6 × 9</caption>\n",
       "<thead>\n",
       "\t<tr><th></th><th scope=col>DATE</th><th scope=col>HOURLYDewPointTempF</th><th scope=col>HOURLYRelativeHumidity</th><th scope=col>HOURLYDRYBULBTEMPF</th><th scope=col>HOURLYWETBULBTEMPF</th><th scope=col>HOURLYPrecip</th><th scope=col>HOURLYWindSpeed</th><th scope=col>HOURLYSeaLevelPressure</th><th scope=col>HOURLYStationPressure</th></tr>\n",
       "\t<tr><th></th><th scope=col>&lt;fct&gt;</th><th scope=col>&lt;fct&gt;</th><th scope=col>&lt;int&gt;</th><th scope=col>&lt;int&gt;</th><th scope=col>&lt;int&gt;</th><th scope=col>&lt;fct&gt;</th><th scope=col>&lt;int&gt;</th><th scope=col>&lt;dbl&gt;</th><th scope=col>&lt;dbl&gt;</th></tr>\n",
       "</thead>\n",
       "<tbody>\n",
       "\t<tr><th scope=row>1</th><td>2015-07-25T13:51:00Z</td><td>60</td><td>46</td><td>83</td><td>68</td><td>0.00</td><td>13</td><td>30.01</td><td>29.99</td></tr>\n",
       "\t<tr><th scope=row>2</th><td>2016-11-18T23:51:00Z</td><td>34</td><td>48</td><td>53</td><td>44</td><td>0.00</td><td> 6</td><td>30.05</td><td>30.03</td></tr>\n",
       "\t<tr><th scope=row>3</th><td>2013-01-06T08:51:00Z</td><td>33</td><td>89</td><td>36</td><td>35</td><td>0.00</td><td>13</td><td>30.14</td><td>30.12</td></tr>\n",
       "\t<tr><th scope=row>4</th><td>2011-01-27T16:51:00Z</td><td>18</td><td>48</td><td>36</td><td>30</td><td>0.00</td><td>14</td><td>29.82</td><td>29.80</td></tr>\n",
       "\t<tr><th scope=row>5</th><td>2015-01-03T12:16:00Z</td><td>27</td><td>61</td><td>39</td><td>34</td><td>T   </td><td>11</td><td>   NA</td><td>30.50</td></tr>\n",
       "\t<tr><th scope=row>6</th><td>2013-02-15T20:51:00Z</td><td>35</td><td>79</td><td>41</td><td>38</td><td>0.00</td><td> 6</td><td>29.94</td><td>29.92</td></tr>\n",
       "</tbody>\n",
       "</table>\n"
      ],
      "text/latex": [
       "A data.frame: 6 × 9\n",
       "\\begin{tabular}{r|lllllllll}\n",
       "  & DATE & HOURLYDewPointTempF & HOURLYRelativeHumidity & HOURLYDRYBULBTEMPF & HOURLYWETBULBTEMPF & HOURLYPrecip & HOURLYWindSpeed & HOURLYSeaLevelPressure & HOURLYStationPressure\\\\\n",
       "  & <fct> & <fct> & <int> & <int> & <int> & <fct> & <int> & <dbl> & <dbl>\\\\\n",
       "\\hline\n",
       "\t1 & 2015-07-25T13:51:00Z & 60 & 46 & 83 & 68 & 0.00 & 13 & 30.01 & 29.99\\\\\n",
       "\t2 & 2016-11-18T23:51:00Z & 34 & 48 & 53 & 44 & 0.00 &  6 & 30.05 & 30.03\\\\\n",
       "\t3 & 2013-01-06T08:51:00Z & 33 & 89 & 36 & 35 & 0.00 & 13 & 30.14 & 30.12\\\\\n",
       "\t4 & 2011-01-27T16:51:00Z & 18 & 48 & 36 & 30 & 0.00 & 14 & 29.82 & 29.80\\\\\n",
       "\t5 & 2015-01-03T12:16:00Z & 27 & 61 & 39 & 34 & T    & 11 &    NA & 30.50\\\\\n",
       "\t6 & 2013-02-15T20:51:00Z & 35 & 79 & 41 & 38 & 0.00 &  6 & 29.94 & 29.92\\\\\n",
       "\\end{tabular}\n"
      ],
      "text/markdown": [
       "\n",
       "A data.frame: 6 × 9\n",
       "\n",
       "| <!--/--> | DATE &lt;fct&gt; | HOURLYDewPointTempF &lt;fct&gt; | HOURLYRelativeHumidity &lt;int&gt; | HOURLYDRYBULBTEMPF &lt;int&gt; | HOURLYWETBULBTEMPF &lt;int&gt; | HOURLYPrecip &lt;fct&gt; | HOURLYWindSpeed &lt;int&gt; | HOURLYSeaLevelPressure &lt;dbl&gt; | HOURLYStationPressure &lt;dbl&gt; |\n",
       "|---|---|---|---|---|---|---|---|---|---|\n",
       "| 1 | 2015-07-25T13:51:00Z | 60 | 46 | 83 | 68 | 0.00 | 13 | 30.01 | 29.99 |\n",
       "| 2 | 2016-11-18T23:51:00Z | 34 | 48 | 53 | 44 | 0.00 |  6 | 30.05 | 30.03 |\n",
       "| 3 | 2013-01-06T08:51:00Z | 33 | 89 | 36 | 35 | 0.00 | 13 | 30.14 | 30.12 |\n",
       "| 4 | 2011-01-27T16:51:00Z | 18 | 48 | 36 | 30 | 0.00 | 14 | 29.82 | 29.80 |\n",
       "| 5 | 2015-01-03T12:16:00Z | 27 | 61 | 39 | 34 | T    | 11 |    NA | 30.50 |\n",
       "| 6 | 2013-02-15T20:51:00Z | 35 | 79 | 41 | 38 | 0.00 |  6 | 29.94 | 29.92 |\n",
       "\n"
      ],
      "text/plain": [
       "  DATE                 HOURLYDewPointTempF HOURLYRelativeHumidity\n",
       "1 2015-07-25T13:51:00Z 60                  46                    \n",
       "2 2016-11-18T23:51:00Z 34                  48                    \n",
       "3 2013-01-06T08:51:00Z 33                  89                    \n",
       "4 2011-01-27T16:51:00Z 18                  48                    \n",
       "5 2015-01-03T12:16:00Z 27                  61                    \n",
       "6 2013-02-15T20:51:00Z 35                  79                    \n",
       "  HOURLYDRYBULBTEMPF HOURLYWETBULBTEMPF HOURLYPrecip HOURLYWindSpeed\n",
       "1 83                 68                 0.00         13             \n",
       "2 53                 44                 0.00          6             \n",
       "3 36                 35                 0.00         13             \n",
       "4 36                 30                 0.00         14             \n",
       "5 39                 34                 T            11             \n",
       "6 41                 38                 0.00          6             \n",
       "  HOURLYSeaLevelPressure HOURLYStationPressure\n",
       "1 30.01                  29.99                \n",
       "2 30.05                  30.03                \n",
       "3 30.14                  30.12                \n",
       "4 29.82                  29.80                \n",
       "5    NA                  30.50                \n",
       "6 29.94                  29.92                "
      ]
     },
     "metadata": {},
     "output_type": "display_data"
    }
   ],
   "source": [
    "head(weather)"
   ]
  },
  {
   "cell_type": "markdown",
   "metadata": {},
   "source": [
    "Also, take a `glimpse` of the dataset to see the different column data types and make sure it is the correct subset dataset with about 5700 rows and 9 columns.\n"
   ]
  },
  {
   "cell_type": "code",
   "execution_count": 8,
   "metadata": {},
   "outputs": [
    {
     "name": "stdout",
     "output_type": "stream",
     "text": [
      "Rows: 5,727\n",
      "Columns: 9\n",
      "$ DATE                   <fct> 2015-07-25T13:51:00Z, 2016-11-18T23:51:00Z, 20…\n",
      "$ HOURLYDewPointTempF    <fct> 60, 34, 33, 18, 27, 35, 4, 14, 51, 71, 76, 19,…\n",
      "$ HOURLYRelativeHumidity <int> 46, 48, 89, 48, 61, 79, 51, 65, 90, 94, 79, 37…\n",
      "$ HOURLYDRYBULBTEMPF     <int> 83, 53, 36, 36, 39, 41, 19, 24, 54, 73, 83, 44…\n",
      "$ HOURLYWETBULBTEMPF     <int> 68, 44, 35, 30, 34, 38, 15, 21, 52, 72, 78, 35…\n",
      "$ HOURLYPrecip           <fct> 0.00, 0.00, 0.00, 0.00, T, 0.00, 0.00, 0.00, 0…\n",
      "$ HOURLYWindSpeed        <int> 13, 6, 13, 14, 11, 6, 0, 11, 11, 5, 21, 7, 17,…\n",
      "$ HOURLYSeaLevelPressure <dbl> 30.01, 30.05, 30.14, 29.82, NA, 29.94, 30.42, …\n",
      "$ HOURLYStationPressure  <dbl> 29.99, 30.03, 30.12, 29.80, 30.50, 29.92, 30.4…\n"
     ]
    }
   ],
   "source": [
    "glimpse(weather)"
   ]
  },
  {
   "cell_type": "markdown",
   "metadata": {
    "tags": []
   },
   "source": [
    "<a id=\"cell3\"></a>\n",
    "## 3. Select Subset of Columns\n",
    "\n",
    "The end goal of this project will be to predict `HOURLYprecip` (precipitation) using a few other variables. Before you can do this, you first need to preprocess the dataset. Section 3 to section 6 focuses on preprocessing.\n",
    "\n",
    "The first step in preprocessing is to select a subset of data columns and inspect the column types.\n",
    "\n",
    "The key columns that we will explore in this project are:\n",
    "- HOURLYRelativeHumidity\n",
    "- HOURLYDRYBULBTEMPF\n",
    "- HOURLYPrecip\n",
    "- HOURLYWindSpeed\n",
    "- HOURLYStationPressure\n",
    "\n",
    "Data Glossary:\n",
    "- 'HOURLYRelativeHumidity' is the relative humidity given to the nearest whole percentage.\n",
    "- 'HOURLYDRYBULBTEMPF' is the dry-bulb temperature and is commonly used as the standard air temperature reported. It is given here in whole degrees Fahrenheit.\n",
    "- 'HOURLYPrecip' is the amount of precipitation in inches to hundredths over the past hour. For certain automated stations, precipitation will be reported at sub-hourly intervals (e.g. every 15 or 20 minutes) as an accumulated amount of all precipitation within the preceding hour. A “T” indicates a trace amount of precipitation.\n",
    "- 'HOURLYWindSpeed' is the speed of the wind at the time of observation given in miles per hour (mph).\n",
    "- 'HOURLYStationPressure' is the atmospheric pressure observed at the station during the time of observation. Given in inches of Mercury (in Hg).\n",
    "\n",
    "`Select` those five columns and store the modified dataframe as a new variable.\n"
   ]
  },
  {
   "cell_type": "code",
   "execution_count": 9,
   "metadata": {},
   "outputs": [],
   "source": [
    "new_data<-data.frame(weather$HOURLYRelativeHumidity,weather$HOURLYDRYBULBTEMPF,weather$HOURLYPrecip,\n",
    "                weather$HOURLYWindSpeed,weather$HOURLYStationPressure)"
   ]
  },
  {
   "cell_type": "markdown",
   "metadata": {},
   "source": [
    "Show the first 10 rows of this new dataframe.\n"
   ]
  },
  {
   "cell_type": "code",
   "execution_count": 10,
   "metadata": {},
   "outputs": [
    {
     "data": {
      "text/html": [
       "<table>\n",
       "<caption>A data.frame: 10 × 5</caption>\n",
       "<thead>\n",
       "\t<tr><th></th><th scope=col>weather.HOURLYRelativeHumidity</th><th scope=col>weather.HOURLYDRYBULBTEMPF</th><th scope=col>weather.HOURLYPrecip</th><th scope=col>weather.HOURLYWindSpeed</th><th scope=col>weather.HOURLYStationPressure</th></tr>\n",
       "\t<tr><th></th><th scope=col>&lt;int&gt;</th><th scope=col>&lt;int&gt;</th><th scope=col>&lt;fct&gt;</th><th scope=col>&lt;int&gt;</th><th scope=col>&lt;dbl&gt;</th></tr>\n",
       "</thead>\n",
       "<tbody>\n",
       "\t<tr><th scope=row>1</th><td>46</td><td>83</td><td>0.00</td><td>13</td><td>29.99</td></tr>\n",
       "\t<tr><th scope=row>2</th><td>48</td><td>53</td><td>0.00</td><td> 6</td><td>30.03</td></tr>\n",
       "\t<tr><th scope=row>3</th><td>89</td><td>36</td><td>0.00</td><td>13</td><td>30.12</td></tr>\n",
       "\t<tr><th scope=row>4</th><td>48</td><td>36</td><td>0.00</td><td>14</td><td>29.80</td></tr>\n",
       "\t<tr><th scope=row>5</th><td>61</td><td>39</td><td>T   </td><td>11</td><td>30.50</td></tr>\n",
       "\t<tr><th scope=row>6</th><td>79</td><td>41</td><td>0.00</td><td> 6</td><td>29.92</td></tr>\n",
       "\t<tr><th scope=row>7</th><td>51</td><td>19</td><td>0.00</td><td> 0</td><td>30.40</td></tr>\n",
       "\t<tr><th scope=row>8</th><td>65</td><td>24</td><td>0.00</td><td>11</td><td>30.35</td></tr>\n",
       "\t<tr><th scope=row>9</th><td>90</td><td>54</td><td>0.06</td><td>11</td><td>30.03</td></tr>\n",
       "\t<tr><th scope=row>10</th><td>94</td><td>73</td><td>NA  </td><td> 5</td><td>29.91</td></tr>\n",
       "</tbody>\n",
       "</table>\n"
      ],
      "text/latex": [
       "A data.frame: 10 × 5\n",
       "\\begin{tabular}{r|lllll}\n",
       "  & weather.HOURLYRelativeHumidity & weather.HOURLYDRYBULBTEMPF & weather.HOURLYPrecip & weather.HOURLYWindSpeed & weather.HOURLYStationPressure\\\\\n",
       "  & <int> & <int> & <fct> & <int> & <dbl>\\\\\n",
       "\\hline\n",
       "\t1 & 46 & 83 & 0.00 & 13 & 29.99\\\\\n",
       "\t2 & 48 & 53 & 0.00 &  6 & 30.03\\\\\n",
       "\t3 & 89 & 36 & 0.00 & 13 & 30.12\\\\\n",
       "\t4 & 48 & 36 & 0.00 & 14 & 29.80\\\\\n",
       "\t5 & 61 & 39 & T    & 11 & 30.50\\\\\n",
       "\t6 & 79 & 41 & 0.00 &  6 & 29.92\\\\\n",
       "\t7 & 51 & 19 & 0.00 &  0 & 30.40\\\\\n",
       "\t8 & 65 & 24 & 0.00 & 11 & 30.35\\\\\n",
       "\t9 & 90 & 54 & 0.06 & 11 & 30.03\\\\\n",
       "\t10 & 94 & 73 & NA   &  5 & 29.91\\\\\n",
       "\\end{tabular}\n"
      ],
      "text/markdown": [
       "\n",
       "A data.frame: 10 × 5\n",
       "\n",
       "| <!--/--> | weather.HOURLYRelativeHumidity &lt;int&gt; | weather.HOURLYDRYBULBTEMPF &lt;int&gt; | weather.HOURLYPrecip &lt;fct&gt; | weather.HOURLYWindSpeed &lt;int&gt; | weather.HOURLYStationPressure &lt;dbl&gt; |\n",
       "|---|---|---|---|---|---|\n",
       "| 1 | 46 | 83 | 0.00 | 13 | 29.99 |\n",
       "| 2 | 48 | 53 | 0.00 |  6 | 30.03 |\n",
       "| 3 | 89 | 36 | 0.00 | 13 | 30.12 |\n",
       "| 4 | 48 | 36 | 0.00 | 14 | 29.80 |\n",
       "| 5 | 61 | 39 | T    | 11 | 30.50 |\n",
       "| 6 | 79 | 41 | 0.00 |  6 | 29.92 |\n",
       "| 7 | 51 | 19 | 0.00 |  0 | 30.40 |\n",
       "| 8 | 65 | 24 | 0.00 | 11 | 30.35 |\n",
       "| 9 | 90 | 54 | 0.06 | 11 | 30.03 |\n",
       "| 10 | 94 | 73 | NA   |  5 | 29.91 |\n",
       "\n"
      ],
      "text/plain": [
       "   weather.HOURLYRelativeHumidity weather.HOURLYDRYBULBTEMPF\n",
       "1  46                             83                        \n",
       "2  48                             53                        \n",
       "3  89                             36                        \n",
       "4  48                             36                        \n",
       "5  61                             39                        \n",
       "6  79                             41                        \n",
       "7  51                             19                        \n",
       "8  65                             24                        \n",
       "9  90                             54                        \n",
       "10 94                             73                        \n",
       "   weather.HOURLYPrecip weather.HOURLYWindSpeed weather.HOURLYStationPressure\n",
       "1  0.00                 13                      29.99                        \n",
       "2  0.00                  6                      30.03                        \n",
       "3  0.00                 13                      30.12                        \n",
       "4  0.00                 14                      29.80                        \n",
       "5  T                    11                      30.50                        \n",
       "6  0.00                  6                      29.92                        \n",
       "7  0.00                  0                      30.40                        \n",
       "8  0.00                 11                      30.35                        \n",
       "9  0.06                 11                      30.03                        \n",
       "10 NA                    5                      29.91                        "
      ]
     },
     "metadata": {},
     "output_type": "display_data"
    }
   ],
   "source": [
    "head(new_data,10)"
   ]
  },
  {
   "cell_type": "markdown",
   "metadata": {},
   "source": [
    "<a id=\"cell4\"></a>\n",
    "## 4. Clean Up Columns\n",
    "\n",
    "From the dataframe preview above, we can see that the column `HOURLYPrecip` - which is the hourly measure of precipitation levels - contains both `NA` and `T` values. `T` specifies *trace amounts of precipitation* (meaning essentially no precipitation), while `NA` means *not available*, and is used to denote missing values. Additionally, some values also have \"s\" at the end of them, indicating that the precipitation was snow. \n",
    "\n",
    "Inspect the unique values present in the column `HOURLYPrecip` (with `unique(dataframe$column)`) to see these values.\n"
   ]
  },
  {
   "cell_type": "code",
   "execution_count": 30,
   "metadata": {},
   "outputs": [
    {
     "data": {
      "text/plain": [
       "NULL"
      ]
     },
     "metadata": {},
     "output_type": "display_data"
    }
   ],
   "source": [
    "unique(new_data$HOURLYPrecip)"
   ]
  },
  {
   "cell_type": "markdown",
   "metadata": {},
   "source": [
    "Having characters in values (like the \"T\" and \"s\" that you see in the unique values) will cause problems when you create a model because values for precipitation should be numerical. So you need to fix these values that have characters. \n",
    "\n",
    "Now, for the column `HOURLYPrecip`:\n",
    "1. Replace all the `T` values with \"0.0\" and \n",
    "2. Remove \"s\" from values like \"0.02s\". In R, you can use the method `str_remove(column, pattern = \"s$\")` to remove the character \"s\" from the end of values. The \"$\" tells R to match to the end of values. The `pattern` is a regex pattern. Look at [here](https://www.rdocumentation.org/packages/stringi/versions/1.5.3/topics/about_search_regex?utm_medium=Exinfluencer&utm_source=Exinfluencer&utm_content=000026UJ&utm_term=10006555&utm_id=NA-SkillsNetwork-Channel-SkillsNetworkCoursesIBMDA0151ENSkillsNetwork926-2022-01-01) for more information about regex and matching to strings in R.\n",
    "\n",
    "Remember that you can use `tidyverse`'s  `mutate()` to update columns.\n",
    "\n",
    "You can check your work by checking if unique values of `HOURLYPrecip` still contain any `T` or `s`. Store the modified dataframe as a new variable.\n"
   ]
  },
  {
   "cell_type": "code",
   "execution_count": 31,
   "metadata": {},
   "outputs": [
    {
     "data": {
      "text/html": [
       "<table>\n",
       "<caption>A data.frame: 5727 × 6</caption>\n",
       "<thead>\n",
       "\t<tr><th scope=col>weather.HOURLYRelativeHumidity</th><th scope=col>weather.HOURLYDRYBULBTEMPF</th><th scope=col>weather.HOURLYPrecip</th><th scope=col>weather.HOURLYWindSpeed</th><th scope=col>weather.HOURLYStationPressure</th><th scope=col>hourlyprecip</th></tr>\n",
       "\t<tr><th scope=col>&lt;int&gt;</th><th scope=col>&lt;int&gt;</th><th scope=col>&lt;chr&gt;</th><th scope=col>&lt;int&gt;</th><th scope=col>&lt;dbl&gt;</th><th scope=col>&lt;chr&gt;</th></tr>\n",
       "</thead>\n",
       "<tbody>\n",
       "\t<tr><td>46</td><td>83</td><td>0.00</td><td>13</td><td>29.99</td><td>0.00</td></tr>\n",
       "\t<tr><td>48</td><td>53</td><td>0.00</td><td> 6</td><td>30.03</td><td>0.00</td></tr>\n",
       "\t<tr><td>89</td><td>36</td><td>0.00</td><td>13</td><td>30.12</td><td>0.00</td></tr>\n",
       "\t<tr><td>48</td><td>36</td><td>0.00</td><td>14</td><td>29.80</td><td>0.00</td></tr>\n",
       "\t<tr><td>61</td><td>39</td><td>0.0 </td><td>11</td><td>30.50</td><td>0.0 </td></tr>\n",
       "\t<tr><td>79</td><td>41</td><td>0.00</td><td> 6</td><td>29.92</td><td>0.00</td></tr>\n",
       "\t<tr><td>51</td><td>19</td><td>0.00</td><td> 0</td><td>30.40</td><td>0.00</td></tr>\n",
       "\t<tr><td>65</td><td>24</td><td>0.00</td><td>11</td><td>30.35</td><td>0.00</td></tr>\n",
       "\t<tr><td>90</td><td>54</td><td>0.06</td><td>11</td><td>30.03</td><td>0.06</td></tr>\n",
       "\t<tr><td>94</td><td>73</td><td>NA  </td><td> 5</td><td>29.91</td><td>NA  </td></tr>\n",
       "\t<tr><td>79</td><td>83</td><td>NA  </td><td>21</td><td>29.75</td><td>NA  </td></tr>\n",
       "\t<tr><td>37</td><td>44</td><td>0.00</td><td> 7</td><td>30.25</td><td>0.00</td></tr>\n",
       "\t<tr><td>72</td><td>57</td><td>0.00</td><td>17</td><td>29.84</td><td>0.00</td></tr>\n",
       "\t<tr><td>47</td><td>78</td><td>0.00</td><td> 8</td><td>30.16</td><td>0.00</td></tr>\n",
       "\t<tr><td>84</td><td>75</td><td>0.00</td><td> 3</td><td>30.17</td><td>0.00</td></tr>\n",
       "\t<tr><td>57</td><td>37</td><td>0.00</td><td>11</td><td>30.01</td><td>0.00</td></tr>\n",
       "\t<tr><td>37</td><td>73</td><td>0.00</td><td>13</td><td>29.96</td><td>0.00</td></tr>\n",
       "\t<tr><td>75</td><td>58</td><td>NA  </td><td> 9</td><td>30.28</td><td>NA  </td></tr>\n",
       "\t<tr><td>92</td><td>32</td><td>0.03</td><td> 9</td><td>29.59</td><td>0.03</td></tr>\n",
       "\t<tr><td>79</td><td>42</td><td>NA  </td><td> 3</td><td>30.10</td><td>NA  </td></tr>\n",
       "\t<tr><td>94</td><td>68</td><td>0.03</td><td>18</td><td>29.68</td><td>0.03</td></tr>\n",
       "\t<tr><td>71</td><td>71</td><td>NA  </td><td> 6</td><td>29.94</td><td>NA  </td></tr>\n",
       "\t<tr><td>78</td><td>57</td><td>0.00</td><td>10</td><td>30.49</td><td>0.00</td></tr>\n",
       "\t<tr><td>55</td><td>73</td><td>0.00</td><td>15</td><td>29.84</td><td>0.00</td></tr>\n",
       "\t<tr><td>79</td><td>44</td><td>0.02</td><td>23</td><td>29.66</td><td>0.02</td></tr>\n",
       "\t<tr><td>83</td><td>55</td><td>NA  </td><td> 3</td><td>30.11</td><td>NA  </td></tr>\n",
       "\t<tr><td>74</td><td>75</td><td>0.00</td><td>14</td><td>29.78</td><td>0.00</td></tr>\n",
       "\t<tr><td>36</td><td>47</td><td>NA  </td><td>13</td><td>29.85</td><td>NA  </td></tr>\n",
       "\t<tr><td>89</td><td>42</td><td>0.0 </td><td>22</td><td>29.58</td><td>0.0 </td></tr>\n",
       "\t<tr><td>42</td><td>24</td><td>0.00</td><td>22</td><td>29.79</td><td>0.00</td></tr>\n",
       "\t<tr><td>⋮</td><td>⋮</td><td>⋮</td><td>⋮</td><td>⋮</td><td>⋮</td></tr>\n",
       "\t<tr><td> 71</td><td>51</td><td>0.0 </td><td>13</td><td>29.77</td><td>0.0 </td></tr>\n",
       "\t<tr><td> 62</td><td>76</td><td>0.00</td><td>21</td><td>29.97</td><td>0.00</td></tr>\n",
       "\t<tr><td> 94</td><td>54</td><td>0.0 </td><td> 8</td><td>29.57</td><td>0.0 </td></tr>\n",
       "\t<tr><td> 53</td><td>71</td><td>0.00</td><td> 6</td><td>29.99</td><td>0.00</td></tr>\n",
       "\t<tr><td> 90</td><td>75</td><td>0.00</td><td>10</td><td>29.95</td><td>0.00</td></tr>\n",
       "\t<tr><td> 40</td><td>63</td><td>0.00</td><td>11</td><td>30.07</td><td>0.00</td></tr>\n",
       "\t<tr><td> 40</td><td>46</td><td>0.00</td><td>14</td><td>30.30</td><td>0.00</td></tr>\n",
       "\t<tr><td> 67</td><td>84</td><td>0.00</td><td> 8</td><td>29.83</td><td>0.00</td></tr>\n",
       "\t<tr><td> 60</td><td>75</td><td>0.00</td><td> 9</td><td>29.98</td><td>0.00</td></tr>\n",
       "\t<tr><td> 87</td><td>58</td><td>0.02</td><td>10</td><td>29.87</td><td>0.02</td></tr>\n",
       "\t<tr><td> 54</td><td>34</td><td>0.00</td><td> 7</td><td>30.63</td><td>0.00</td></tr>\n",
       "\t<tr><td> 79</td><td>74</td><td>0.00</td><td>14</td><td>29.97</td><td>0.00</td></tr>\n",
       "\t<tr><td> 79</td><td>67</td><td>NA  </td><td> 5</td><td>30.17</td><td>NA  </td></tr>\n",
       "\t<tr><td> 57</td><td>36</td><td>0.00</td><td>20</td><td>29.72</td><td>0.00</td></tr>\n",
       "\t<tr><td> 71</td><td>67</td><td>0.00</td><td> 7</td><td>29.88</td><td>0.00</td></tr>\n",
       "\t<tr><td> 54</td><td>19</td><td>0.00</td><td> 9</td><td>30.36</td><td>0.00</td></tr>\n",
       "\t<tr><td> 34</td><td>54</td><td>0.00</td><td>13</td><td>29.97</td><td>0.00</td></tr>\n",
       "\t<tr><td> 32</td><td>18</td><td>0.00</td><td>20</td><td>30.48</td><td>0.00</td></tr>\n",
       "\t<tr><td> 78</td><td>26</td><td>0.0 </td><td>22</td><td>29.91</td><td>0.0 </td></tr>\n",
       "\t<tr><td> 52</td><td>18</td><td>0.00</td><td> 8</td><td>30.00</td><td>0.00</td></tr>\n",
       "\t<tr><td>100</td><td>40</td><td>0.03</td><td> 9</td><td>30.00</td><td>0.03</td></tr>\n",
       "\t<tr><td> 49</td><td>57</td><td>0.00</td><td>16</td><td>29.90</td><td>0.00</td></tr>\n",
       "\t<tr><td> 66</td><td>67</td><td>0.00</td><td>16</td><td>30.26</td><td>0.00</td></tr>\n",
       "\t<tr><td> 97</td><td>38</td><td>0.01</td><td>17</td><td>29.65</td><td>0.01</td></tr>\n",
       "\t<tr><td> 64</td><td>72</td><td>0.00</td><td> 9</td><td>30.21</td><td>0.00</td></tr>\n",
       "\t<tr><td> 67</td><td>61</td><td>0.00</td><td> 6</td><td>29.72</td><td>0.00</td></tr>\n",
       "\t<tr><td> NA</td><td>NA</td><td>NA  </td><td>NA</td><td>   NA</td><td>NA  </td></tr>\n",
       "\t<tr><td> 48</td><td>53</td><td>0.00</td><td> 3</td><td>30.26</td><td>0.00</td></tr>\n",
       "\t<tr><td> 75</td><td>32</td><td>0.00</td><td> 7</td><td>29.69</td><td>0.00</td></tr>\n",
       "\t<tr><td> 52</td><td>38</td><td>0.00</td><td> 0</td><td>29.97</td><td>0.00</td></tr>\n",
       "</tbody>\n",
       "</table>\n"
      ],
      "text/latex": [
       "A data.frame: 5727 × 6\n",
       "\\begin{tabular}{llllll}\n",
       " weather.HOURLYRelativeHumidity & weather.HOURLYDRYBULBTEMPF & weather.HOURLYPrecip & weather.HOURLYWindSpeed & weather.HOURLYStationPressure & hourlyprecip\\\\\n",
       " <int> & <int> & <chr> & <int> & <dbl> & <chr>\\\\\n",
       "\\hline\n",
       "\t 46 & 83 & 0.00 & 13 & 29.99 & 0.00\\\\\n",
       "\t 48 & 53 & 0.00 &  6 & 30.03 & 0.00\\\\\n",
       "\t 89 & 36 & 0.00 & 13 & 30.12 & 0.00\\\\\n",
       "\t 48 & 36 & 0.00 & 14 & 29.80 & 0.00\\\\\n",
       "\t 61 & 39 & 0.0  & 11 & 30.50 & 0.0 \\\\\n",
       "\t 79 & 41 & 0.00 &  6 & 29.92 & 0.00\\\\\n",
       "\t 51 & 19 & 0.00 &  0 & 30.40 & 0.00\\\\\n",
       "\t 65 & 24 & 0.00 & 11 & 30.35 & 0.00\\\\\n",
       "\t 90 & 54 & 0.06 & 11 & 30.03 & 0.06\\\\\n",
       "\t 94 & 73 & NA   &  5 & 29.91 & NA  \\\\\n",
       "\t 79 & 83 & NA   & 21 & 29.75 & NA  \\\\\n",
       "\t 37 & 44 & 0.00 &  7 & 30.25 & 0.00\\\\\n",
       "\t 72 & 57 & 0.00 & 17 & 29.84 & 0.00\\\\\n",
       "\t 47 & 78 & 0.00 &  8 & 30.16 & 0.00\\\\\n",
       "\t 84 & 75 & 0.00 &  3 & 30.17 & 0.00\\\\\n",
       "\t 57 & 37 & 0.00 & 11 & 30.01 & 0.00\\\\\n",
       "\t 37 & 73 & 0.00 & 13 & 29.96 & 0.00\\\\\n",
       "\t 75 & 58 & NA   &  9 & 30.28 & NA  \\\\\n",
       "\t 92 & 32 & 0.03 &  9 & 29.59 & 0.03\\\\\n",
       "\t 79 & 42 & NA   &  3 & 30.10 & NA  \\\\\n",
       "\t 94 & 68 & 0.03 & 18 & 29.68 & 0.03\\\\\n",
       "\t 71 & 71 & NA   &  6 & 29.94 & NA  \\\\\n",
       "\t 78 & 57 & 0.00 & 10 & 30.49 & 0.00\\\\\n",
       "\t 55 & 73 & 0.00 & 15 & 29.84 & 0.00\\\\\n",
       "\t 79 & 44 & 0.02 & 23 & 29.66 & 0.02\\\\\n",
       "\t 83 & 55 & NA   &  3 & 30.11 & NA  \\\\\n",
       "\t 74 & 75 & 0.00 & 14 & 29.78 & 0.00\\\\\n",
       "\t 36 & 47 & NA   & 13 & 29.85 & NA  \\\\\n",
       "\t 89 & 42 & 0.0  & 22 & 29.58 & 0.0 \\\\\n",
       "\t 42 & 24 & 0.00 & 22 & 29.79 & 0.00\\\\\n",
       "\t ⋮ & ⋮ & ⋮ & ⋮ & ⋮ & ⋮\\\\\n",
       "\t  71 & 51 & 0.0  & 13 & 29.77 & 0.0 \\\\\n",
       "\t  62 & 76 & 0.00 & 21 & 29.97 & 0.00\\\\\n",
       "\t  94 & 54 & 0.0  &  8 & 29.57 & 0.0 \\\\\n",
       "\t  53 & 71 & 0.00 &  6 & 29.99 & 0.00\\\\\n",
       "\t  90 & 75 & 0.00 & 10 & 29.95 & 0.00\\\\\n",
       "\t  40 & 63 & 0.00 & 11 & 30.07 & 0.00\\\\\n",
       "\t  40 & 46 & 0.00 & 14 & 30.30 & 0.00\\\\\n",
       "\t  67 & 84 & 0.00 &  8 & 29.83 & 0.00\\\\\n",
       "\t  60 & 75 & 0.00 &  9 & 29.98 & 0.00\\\\\n",
       "\t  87 & 58 & 0.02 & 10 & 29.87 & 0.02\\\\\n",
       "\t  54 & 34 & 0.00 &  7 & 30.63 & 0.00\\\\\n",
       "\t  79 & 74 & 0.00 & 14 & 29.97 & 0.00\\\\\n",
       "\t  79 & 67 & NA   &  5 & 30.17 & NA  \\\\\n",
       "\t  57 & 36 & 0.00 & 20 & 29.72 & 0.00\\\\\n",
       "\t  71 & 67 & 0.00 &  7 & 29.88 & 0.00\\\\\n",
       "\t  54 & 19 & 0.00 &  9 & 30.36 & 0.00\\\\\n",
       "\t  34 & 54 & 0.00 & 13 & 29.97 & 0.00\\\\\n",
       "\t  32 & 18 & 0.00 & 20 & 30.48 & 0.00\\\\\n",
       "\t  78 & 26 & 0.0  & 22 & 29.91 & 0.0 \\\\\n",
       "\t  52 & 18 & 0.00 &  8 & 30.00 & 0.00\\\\\n",
       "\t 100 & 40 & 0.03 &  9 & 30.00 & 0.03\\\\\n",
       "\t  49 & 57 & 0.00 & 16 & 29.90 & 0.00\\\\\n",
       "\t  66 & 67 & 0.00 & 16 & 30.26 & 0.00\\\\\n",
       "\t  97 & 38 & 0.01 & 17 & 29.65 & 0.01\\\\\n",
       "\t  64 & 72 & 0.00 &  9 & 30.21 & 0.00\\\\\n",
       "\t  67 & 61 & 0.00 &  6 & 29.72 & 0.00\\\\\n",
       "\t  NA & NA & NA   & NA &    NA & NA  \\\\\n",
       "\t  48 & 53 & 0.00 &  3 & 30.26 & 0.00\\\\\n",
       "\t  75 & 32 & 0.00 &  7 & 29.69 & 0.00\\\\\n",
       "\t  52 & 38 & 0.00 &  0 & 29.97 & 0.00\\\\\n",
       "\\end{tabular}\n"
      ],
      "text/markdown": [
       "\n",
       "A data.frame: 5727 × 6\n",
       "\n",
       "| weather.HOURLYRelativeHumidity &lt;int&gt; | weather.HOURLYDRYBULBTEMPF &lt;int&gt; | weather.HOURLYPrecip &lt;chr&gt; | weather.HOURLYWindSpeed &lt;int&gt; | weather.HOURLYStationPressure &lt;dbl&gt; | hourlyprecip &lt;chr&gt; |\n",
       "|---|---|---|---|---|---|\n",
       "| 46 | 83 | 0.00 | 13 | 29.99 | 0.00 |\n",
       "| 48 | 53 | 0.00 |  6 | 30.03 | 0.00 |\n",
       "| 89 | 36 | 0.00 | 13 | 30.12 | 0.00 |\n",
       "| 48 | 36 | 0.00 | 14 | 29.80 | 0.00 |\n",
       "| 61 | 39 | 0.0  | 11 | 30.50 | 0.0  |\n",
       "| 79 | 41 | 0.00 |  6 | 29.92 | 0.00 |\n",
       "| 51 | 19 | 0.00 |  0 | 30.40 | 0.00 |\n",
       "| 65 | 24 | 0.00 | 11 | 30.35 | 0.00 |\n",
       "| 90 | 54 | 0.06 | 11 | 30.03 | 0.06 |\n",
       "| 94 | 73 | NA   |  5 | 29.91 | NA   |\n",
       "| 79 | 83 | NA   | 21 | 29.75 | NA   |\n",
       "| 37 | 44 | 0.00 |  7 | 30.25 | 0.00 |\n",
       "| 72 | 57 | 0.00 | 17 | 29.84 | 0.00 |\n",
       "| 47 | 78 | 0.00 |  8 | 30.16 | 0.00 |\n",
       "| 84 | 75 | 0.00 |  3 | 30.17 | 0.00 |\n",
       "| 57 | 37 | 0.00 | 11 | 30.01 | 0.00 |\n",
       "| 37 | 73 | 0.00 | 13 | 29.96 | 0.00 |\n",
       "| 75 | 58 | NA   |  9 | 30.28 | NA   |\n",
       "| 92 | 32 | 0.03 |  9 | 29.59 | 0.03 |\n",
       "| 79 | 42 | NA   |  3 | 30.10 | NA   |\n",
       "| 94 | 68 | 0.03 | 18 | 29.68 | 0.03 |\n",
       "| 71 | 71 | NA   |  6 | 29.94 | NA   |\n",
       "| 78 | 57 | 0.00 | 10 | 30.49 | 0.00 |\n",
       "| 55 | 73 | 0.00 | 15 | 29.84 | 0.00 |\n",
       "| 79 | 44 | 0.02 | 23 | 29.66 | 0.02 |\n",
       "| 83 | 55 | NA   |  3 | 30.11 | NA   |\n",
       "| 74 | 75 | 0.00 | 14 | 29.78 | 0.00 |\n",
       "| 36 | 47 | NA   | 13 | 29.85 | NA   |\n",
       "| 89 | 42 | 0.0  | 22 | 29.58 | 0.0  |\n",
       "| 42 | 24 | 0.00 | 22 | 29.79 | 0.00 |\n",
       "| ⋮ | ⋮ | ⋮ | ⋮ | ⋮ | ⋮ |\n",
       "|  71 | 51 | 0.0  | 13 | 29.77 | 0.0  |\n",
       "|  62 | 76 | 0.00 | 21 | 29.97 | 0.00 |\n",
       "|  94 | 54 | 0.0  |  8 | 29.57 | 0.0  |\n",
       "|  53 | 71 | 0.00 |  6 | 29.99 | 0.00 |\n",
       "|  90 | 75 | 0.00 | 10 | 29.95 | 0.00 |\n",
       "|  40 | 63 | 0.00 | 11 | 30.07 | 0.00 |\n",
       "|  40 | 46 | 0.00 | 14 | 30.30 | 0.00 |\n",
       "|  67 | 84 | 0.00 |  8 | 29.83 | 0.00 |\n",
       "|  60 | 75 | 0.00 |  9 | 29.98 | 0.00 |\n",
       "|  87 | 58 | 0.02 | 10 | 29.87 | 0.02 |\n",
       "|  54 | 34 | 0.00 |  7 | 30.63 | 0.00 |\n",
       "|  79 | 74 | 0.00 | 14 | 29.97 | 0.00 |\n",
       "|  79 | 67 | NA   |  5 | 30.17 | NA   |\n",
       "|  57 | 36 | 0.00 | 20 | 29.72 | 0.00 |\n",
       "|  71 | 67 | 0.00 |  7 | 29.88 | 0.00 |\n",
       "|  54 | 19 | 0.00 |  9 | 30.36 | 0.00 |\n",
       "|  34 | 54 | 0.00 | 13 | 29.97 | 0.00 |\n",
       "|  32 | 18 | 0.00 | 20 | 30.48 | 0.00 |\n",
       "|  78 | 26 | 0.0  | 22 | 29.91 | 0.0  |\n",
       "|  52 | 18 | 0.00 |  8 | 30.00 | 0.00 |\n",
       "| 100 | 40 | 0.03 |  9 | 30.00 | 0.03 |\n",
       "|  49 | 57 | 0.00 | 16 | 29.90 | 0.00 |\n",
       "|  66 | 67 | 0.00 | 16 | 30.26 | 0.00 |\n",
       "|  97 | 38 | 0.01 | 17 | 29.65 | 0.01 |\n",
       "|  64 | 72 | 0.00 |  9 | 30.21 | 0.00 |\n",
       "|  67 | 61 | 0.00 |  6 | 29.72 | 0.00 |\n",
       "|  NA | NA | NA   | NA |    NA | NA   |\n",
       "|  48 | 53 | 0.00 |  3 | 30.26 | 0.00 |\n",
       "|  75 | 32 | 0.00 |  7 | 29.69 | 0.00 |\n",
       "|  52 | 38 | 0.00 |  0 | 29.97 | 0.00 |\n",
       "\n"
      ],
      "text/plain": [
       "     weather.HOURLYRelativeHumidity weather.HOURLYDRYBULBTEMPF\n",
       "1    46                             83                        \n",
       "2    48                             53                        \n",
       "3    89                             36                        \n",
       "4    48                             36                        \n",
       "5    61                             39                        \n",
       "6    79                             41                        \n",
       "7    51                             19                        \n",
       "8    65                             24                        \n",
       "9    90                             54                        \n",
       "10   94                             73                        \n",
       "11   79                             83                        \n",
       "12   37                             44                        \n",
       "13   72                             57                        \n",
       "14   47                             78                        \n",
       "15   84                             75                        \n",
       "16   57                             37                        \n",
       "17   37                             73                        \n",
       "18   75                             58                        \n",
       "19   92                             32                        \n",
       "20   79                             42                        \n",
       "21   94                             68                        \n",
       "22   71                             71                        \n",
       "23   78                             57                        \n",
       "24   55                             73                        \n",
       "25   79                             44                        \n",
       "26   83                             55                        \n",
       "27   74                             75                        \n",
       "28   36                             47                        \n",
       "29   89                             42                        \n",
       "30   42                             24                        \n",
       "⋮    ⋮                              ⋮                         \n",
       "5698  71                            51                        \n",
       "5699  62                            76                        \n",
       "5700  94                            54                        \n",
       "5701  53                            71                        \n",
       "5702  90                            75                        \n",
       "5703  40                            63                        \n",
       "5704  40                            46                        \n",
       "5705  67                            84                        \n",
       "5706  60                            75                        \n",
       "5707  87                            58                        \n",
       "5708  54                            34                        \n",
       "5709  79                            74                        \n",
       "5710  79                            67                        \n",
       "5711  57                            36                        \n",
       "5712  71                            67                        \n",
       "5713  54                            19                        \n",
       "5714  34                            54                        \n",
       "5715  32                            18                        \n",
       "5716  78                            26                        \n",
       "5717  52                            18                        \n",
       "5718 100                            40                        \n",
       "5719  49                            57                        \n",
       "5720  66                            67                        \n",
       "5721  97                            38                        \n",
       "5722  64                            72                        \n",
       "5723  67                            61                        \n",
       "5724  NA                            NA                        \n",
       "5725  48                            53                        \n",
       "5726  75                            32                        \n",
       "5727  52                            38                        \n",
       "     weather.HOURLYPrecip weather.HOURLYWindSpeed weather.HOURLYStationPressure\n",
       "1    0.00                 13                      29.99                        \n",
       "2    0.00                  6                      30.03                        \n",
       "3    0.00                 13                      30.12                        \n",
       "4    0.00                 14                      29.80                        \n",
       "5    0.0                  11                      30.50                        \n",
       "6    0.00                  6                      29.92                        \n",
       "7    0.00                  0                      30.40                        \n",
       "8    0.00                 11                      30.35                        \n",
       "9    0.06                 11                      30.03                        \n",
       "10   NA                    5                      29.91                        \n",
       "11   NA                   21                      29.75                        \n",
       "12   0.00                  7                      30.25                        \n",
       "13   0.00                 17                      29.84                        \n",
       "14   0.00                  8                      30.16                        \n",
       "15   0.00                  3                      30.17                        \n",
       "16   0.00                 11                      30.01                        \n",
       "17   0.00                 13                      29.96                        \n",
       "18   NA                    9                      30.28                        \n",
       "19   0.03                  9                      29.59                        \n",
       "20   NA                    3                      30.10                        \n",
       "21   0.03                 18                      29.68                        \n",
       "22   NA                    6                      29.94                        \n",
       "23   0.00                 10                      30.49                        \n",
       "24   0.00                 15                      29.84                        \n",
       "25   0.02                 23                      29.66                        \n",
       "26   NA                    3                      30.11                        \n",
       "27   0.00                 14                      29.78                        \n",
       "28   NA                   13                      29.85                        \n",
       "29   0.0                  22                      29.58                        \n",
       "30   0.00                 22                      29.79                        \n",
       "⋮    ⋮                    ⋮                       ⋮                            \n",
       "5698 0.0                  13                      29.77                        \n",
       "5699 0.00                 21                      29.97                        \n",
       "5700 0.0                   8                      29.57                        \n",
       "5701 0.00                  6                      29.99                        \n",
       "5702 0.00                 10                      29.95                        \n",
       "5703 0.00                 11                      30.07                        \n",
       "5704 0.00                 14                      30.30                        \n",
       "5705 0.00                  8                      29.83                        \n",
       "5706 0.00                  9                      29.98                        \n",
       "5707 0.02                 10                      29.87                        \n",
       "5708 0.00                  7                      30.63                        \n",
       "5709 0.00                 14                      29.97                        \n",
       "5710 NA                    5                      30.17                        \n",
       "5711 0.00                 20                      29.72                        \n",
       "5712 0.00                  7                      29.88                        \n",
       "5713 0.00                  9                      30.36                        \n",
       "5714 0.00                 13                      29.97                        \n",
       "5715 0.00                 20                      30.48                        \n",
       "5716 0.0                  22                      29.91                        \n",
       "5717 0.00                  8                      30.00                        \n",
       "5718 0.03                  9                      30.00                        \n",
       "5719 0.00                 16                      29.90                        \n",
       "5720 0.00                 16                      30.26                        \n",
       "5721 0.01                 17                      29.65                        \n",
       "5722 0.00                  9                      30.21                        \n",
       "5723 0.00                  6                      29.72                        \n",
       "5724 NA                   NA                         NA                        \n",
       "5725 0.00                  3                      30.26                        \n",
       "5726 0.00                  7                      29.69                        \n",
       "5727 0.00                  0                      29.97                        \n",
       "     hourlyprecip\n",
       "1    0.00        \n",
       "2    0.00        \n",
       "3    0.00        \n",
       "4    0.00        \n",
       "5    0.0         \n",
       "6    0.00        \n",
       "7    0.00        \n",
       "8    0.00        \n",
       "9    0.06        \n",
       "10   NA          \n",
       "11   NA          \n",
       "12   0.00        \n",
       "13   0.00        \n",
       "14   0.00        \n",
       "15   0.00        \n",
       "16   0.00        \n",
       "17   0.00        \n",
       "18   NA          \n",
       "19   0.03        \n",
       "20   NA          \n",
       "21   0.03        \n",
       "22   NA          \n",
       "23   0.00        \n",
       "24   0.00        \n",
       "25   0.02        \n",
       "26   NA          \n",
       "27   0.00        \n",
       "28   NA          \n",
       "29   0.0         \n",
       "30   0.00        \n",
       "⋮    ⋮           \n",
       "5698 0.0         \n",
       "5699 0.00        \n",
       "5700 0.0         \n",
       "5701 0.00        \n",
       "5702 0.00        \n",
       "5703 0.00        \n",
       "5704 0.00        \n",
       "5705 0.00        \n",
       "5706 0.00        \n",
       "5707 0.02        \n",
       "5708 0.00        \n",
       "5709 0.00        \n",
       "5710 NA          \n",
       "5711 0.00        \n",
       "5712 0.00        \n",
       "5713 0.00        \n",
       "5714 0.00        \n",
       "5715 0.00        \n",
       "5716 0.0         \n",
       "5717 0.00        \n",
       "5718 0.03        \n",
       "5719 0.00        \n",
       "5720 0.00        \n",
       "5721 0.01        \n",
       "5722 0.00        \n",
       "5723 0.00        \n",
       "5724 NA          \n",
       "5725 0.00        \n",
       "5726 0.00        \n",
       "5727 0.00        "
      ]
     },
     "metadata": {},
     "output_type": "display_data"
    }
   ],
   "source": [
    "new_data$weather.HOURLYPrecip <- gsub(\"T\",\"0.0\", new_data$weather.HOURLYPrecip)\n",
    "\n",
    "\n",
    "library(stringr)\n",
    "updated_data<- str_remove(new_data$weather.HOURLYPrecip, \"s$\")\n",
    "new<-new_data%>%\n",
    "  mutate(hourlyprecip=updated_data)\n",
    "new"
   ]
  },
  {
   "cell_type": "markdown",
   "metadata": {},
   "source": [
    "<a id=\"cell5\"></a>\n",
    "## 5. Convert Columns to Numerical Types\n",
    "Now that you have removed the characters in the `HOURLYPrecip` column, you can safely covert the column to a numeric type.\n",
    "\n",
    "First, check the types of the columns. You will notice that all are `dbl` (double or numeric) except for `HOURLYPrecip`, which is `chr` (character or string). Use the `glimpse` function from Tidyverse.\n"
   ]
  },
  {
   "cell_type": "code",
   "execution_count": 12,
   "metadata": {},
   "outputs": [
    {
     "name": "stdout",
     "output_type": "stream",
     "text": [
      "Rows: 5,727\n",
      "Columns: 6\n",
      "$ weather.HOURLYRelativeHumidity <int> 46, 48, 89, 48, 61, 79, 51, 65, 90, 94…\n",
      "$ weather.HOURLYDRYBULBTEMPF     <int> 83, 53, 36, 36, 39, 41, 19, 24, 54, 73…\n",
      "$ weather.HOURLYPrecip           <chr> \"0.00\", \"0.00\", \"0.00\", \"0.00\", \"0.0\",…\n",
      "$ weather.HOURLYWindSpeed        <int> 13, 6, 13, 14, 11, 6, 0, 11, 11, 5, 21…\n",
      "$ weather.HOURLYStationPressure  <dbl> 29.99, 30.03, 30.12, 29.80, 30.50, 29.…\n",
      "$ hourlyprecip                   <chr> \"0.00\", \"0.00\", \"0.00\", \"0.00\", \"0.0\",…\n"
     ]
    }
   ],
   "source": [
    "glimpse(new)"
   ]
  },
  {
   "cell_type": "markdown",
   "metadata": {},
   "source": [
    "Convert `HOURLYPrecip` to the `numeric` type and store the cleaned dataframe as a new variable.\n"
   ]
  },
  {
   "cell_type": "code",
   "execution_count": 13,
   "metadata": {},
   "outputs": [],
   "source": [
    "Hourly<-as.numeric(new$hourlyprecip)\n",
    "Final_data<-new%>%\n",
    "  mutate(Hourlypre=Hourly)\n",
    "Final_data<-subset(Final_data,select =c(-hourlyprecip,-weather.HOURLYPrecip))"
   ]
  },
  {
   "cell_type": "markdown",
   "metadata": {},
   "source": [
    "We can now see that all fields have numerical data type.\n"
   ]
  },
  {
   "cell_type": "code",
   "execution_count": 14,
   "metadata": {},
   "outputs": [
    {
     "name": "stdout",
     "output_type": "stream",
     "text": [
      "Rows: 5,727\n",
      "Columns: 5\n",
      "$ weather.HOURLYRelativeHumidity <int> 46, 48, 89, 48, 61, 79, 51, 65, 90, 94…\n",
      "$ weather.HOURLYDRYBULBTEMPF     <int> 83, 53, 36, 36, 39, 41, 19, 24, 54, 73…\n",
      "$ weather.HOURLYWindSpeed        <int> 13, 6, 13, 14, 11, 6, 0, 11, 11, 5, 21…\n",
      "$ weather.HOURLYStationPressure  <dbl> 29.99, 30.03, 30.12, 29.80, 30.50, 29.…\n",
      "$ Hourlypre                      <dbl> 0.00, 0.00, 0.00, 0.00, 0.00, 0.00, 0.…\n"
     ]
    }
   ],
   "source": [
    "glimpse(Final_data)"
   ]
  },
  {
   "cell_type": "markdown",
   "metadata": {},
   "source": [
    "<a id=\"cell6\"></a>\n",
    "## 6. Rename Columns\n",
    "Let's rename the following columns as:\n",
    "- 'HOURLYRelativeHumidity' to 'relative_humidity'\n",
    "- 'HOURLYDRYBULBTEMPF' to 'dry_bulb_temp_f'\n",
    "- 'HOURLYPrecip' to 'precip'\n",
    "- 'HOURLYWindSpeed' to 'wind_speed'\n",
    "- 'HOURLYStationPressure' to 'station_pressure'\n",
    "\n",
    "You can use `dplyr::rename()`. Then, store the final dataframe as a new variable.\n"
   ]
  },
  {
   "cell_type": "code",
   "execution_count": 32,
   "metadata": {},
   "outputs": [
    {
     "data": {
      "text/html": [
       "<table>\n",
       "<caption>A data.frame: 5727 × 5</caption>\n",
       "<thead>\n",
       "\t<tr><th></th><th scope=col>relative_humidity</th><th scope=col>dry_bulb_temp_f</th><th scope=col>wind_speed</th><th scope=col>station_pressure</th><th scope=col>precip</th></tr>\n",
       "\t<tr><th></th><th scope=col>&lt;int&gt;</th><th scope=col>&lt;int&gt;</th><th scope=col>&lt;int&gt;</th><th scope=col>&lt;dbl&gt;</th><th scope=col>&lt;dbl&gt;</th></tr>\n",
       "</thead>\n",
       "<tbody>\n",
       "\t<tr><th scope=row>1</th><td>46</td><td>83</td><td>13</td><td>29.99</td><td>0.00</td></tr>\n",
       "\t<tr><th scope=row>2</th><td>48</td><td>53</td><td> 6</td><td>30.03</td><td>0.00</td></tr>\n",
       "\t<tr><th scope=row>3</th><td>89</td><td>36</td><td>13</td><td>30.12</td><td>0.00</td></tr>\n",
       "\t<tr><th scope=row>4</th><td>48</td><td>36</td><td>14</td><td>29.80</td><td>0.00</td></tr>\n",
       "\t<tr><th scope=row>5</th><td>61</td><td>39</td><td>11</td><td>30.50</td><td>0.00</td></tr>\n",
       "\t<tr><th scope=row>6</th><td>79</td><td>41</td><td> 6</td><td>29.92</td><td>0.00</td></tr>\n",
       "\t<tr><th scope=row>7</th><td>51</td><td>19</td><td> 0</td><td>30.40</td><td>0.00</td></tr>\n",
       "\t<tr><th scope=row>8</th><td>65</td><td>24</td><td>11</td><td>30.35</td><td>0.00</td></tr>\n",
       "\t<tr><th scope=row>9</th><td>90</td><td>54</td><td>11</td><td>30.03</td><td>0.06</td></tr>\n",
       "\t<tr><th scope=row>10</th><td>94</td><td>73</td><td> 5</td><td>29.91</td><td>  NA</td></tr>\n",
       "\t<tr><th scope=row>11</th><td>79</td><td>83</td><td>21</td><td>29.75</td><td>  NA</td></tr>\n",
       "\t<tr><th scope=row>12</th><td>37</td><td>44</td><td> 7</td><td>30.25</td><td>0.00</td></tr>\n",
       "\t<tr><th scope=row>13</th><td>72</td><td>57</td><td>17</td><td>29.84</td><td>0.00</td></tr>\n",
       "\t<tr><th scope=row>14</th><td>47</td><td>78</td><td> 8</td><td>30.16</td><td>0.00</td></tr>\n",
       "\t<tr><th scope=row>15</th><td>84</td><td>75</td><td> 3</td><td>30.17</td><td>0.00</td></tr>\n",
       "\t<tr><th scope=row>16</th><td>57</td><td>37</td><td>11</td><td>30.01</td><td>0.00</td></tr>\n",
       "\t<tr><th scope=row>17</th><td>37</td><td>73</td><td>13</td><td>29.96</td><td>0.00</td></tr>\n",
       "\t<tr><th scope=row>18</th><td>75</td><td>58</td><td> 9</td><td>30.28</td><td>  NA</td></tr>\n",
       "\t<tr><th scope=row>19</th><td>92</td><td>32</td><td> 9</td><td>29.59</td><td>0.03</td></tr>\n",
       "\t<tr><th scope=row>20</th><td>79</td><td>42</td><td> 3</td><td>30.10</td><td>  NA</td></tr>\n",
       "\t<tr><th scope=row>21</th><td>94</td><td>68</td><td>18</td><td>29.68</td><td>0.03</td></tr>\n",
       "\t<tr><th scope=row>22</th><td>71</td><td>71</td><td> 6</td><td>29.94</td><td>  NA</td></tr>\n",
       "\t<tr><th scope=row>23</th><td>78</td><td>57</td><td>10</td><td>30.49</td><td>0.00</td></tr>\n",
       "\t<tr><th scope=row>24</th><td>55</td><td>73</td><td>15</td><td>29.84</td><td>0.00</td></tr>\n",
       "\t<tr><th scope=row>25</th><td>79</td><td>44</td><td>23</td><td>29.66</td><td>0.02</td></tr>\n",
       "\t<tr><th scope=row>26</th><td>83</td><td>55</td><td> 3</td><td>30.11</td><td>  NA</td></tr>\n",
       "\t<tr><th scope=row>27</th><td>74</td><td>75</td><td>14</td><td>29.78</td><td>0.00</td></tr>\n",
       "\t<tr><th scope=row>28</th><td>36</td><td>47</td><td>13</td><td>29.85</td><td>  NA</td></tr>\n",
       "\t<tr><th scope=row>29</th><td>89</td><td>42</td><td>22</td><td>29.58</td><td>0.00</td></tr>\n",
       "\t<tr><th scope=row>30</th><td>42</td><td>24</td><td>22</td><td>29.79</td><td>0.00</td></tr>\n",
       "\t<tr><th scope=row>⋮</th><td>⋮</td><td>⋮</td><td>⋮</td><td>⋮</td><td>⋮</td></tr>\n",
       "\t<tr><th scope=row>5698</th><td> 71</td><td>51</td><td>13</td><td>29.77</td><td>0.00</td></tr>\n",
       "\t<tr><th scope=row>5699</th><td> 62</td><td>76</td><td>21</td><td>29.97</td><td>0.00</td></tr>\n",
       "\t<tr><th scope=row>5700</th><td> 94</td><td>54</td><td> 8</td><td>29.57</td><td>0.00</td></tr>\n",
       "\t<tr><th scope=row>5701</th><td> 53</td><td>71</td><td> 6</td><td>29.99</td><td>0.00</td></tr>\n",
       "\t<tr><th scope=row>5702</th><td> 90</td><td>75</td><td>10</td><td>29.95</td><td>0.00</td></tr>\n",
       "\t<tr><th scope=row>5703</th><td> 40</td><td>63</td><td>11</td><td>30.07</td><td>0.00</td></tr>\n",
       "\t<tr><th scope=row>5704</th><td> 40</td><td>46</td><td>14</td><td>30.30</td><td>0.00</td></tr>\n",
       "\t<tr><th scope=row>5705</th><td> 67</td><td>84</td><td> 8</td><td>29.83</td><td>0.00</td></tr>\n",
       "\t<tr><th scope=row>5706</th><td> 60</td><td>75</td><td> 9</td><td>29.98</td><td>0.00</td></tr>\n",
       "\t<tr><th scope=row>5707</th><td> 87</td><td>58</td><td>10</td><td>29.87</td><td>0.02</td></tr>\n",
       "\t<tr><th scope=row>5708</th><td> 54</td><td>34</td><td> 7</td><td>30.63</td><td>0.00</td></tr>\n",
       "\t<tr><th scope=row>5709</th><td> 79</td><td>74</td><td>14</td><td>29.97</td><td>0.00</td></tr>\n",
       "\t<tr><th scope=row>5710</th><td> 79</td><td>67</td><td> 5</td><td>30.17</td><td>  NA</td></tr>\n",
       "\t<tr><th scope=row>5711</th><td> 57</td><td>36</td><td>20</td><td>29.72</td><td>0.00</td></tr>\n",
       "\t<tr><th scope=row>5712</th><td> 71</td><td>67</td><td> 7</td><td>29.88</td><td>0.00</td></tr>\n",
       "\t<tr><th scope=row>5713</th><td> 54</td><td>19</td><td> 9</td><td>30.36</td><td>0.00</td></tr>\n",
       "\t<tr><th scope=row>5714</th><td> 34</td><td>54</td><td>13</td><td>29.97</td><td>0.00</td></tr>\n",
       "\t<tr><th scope=row>5715</th><td> 32</td><td>18</td><td>20</td><td>30.48</td><td>0.00</td></tr>\n",
       "\t<tr><th scope=row>5716</th><td> 78</td><td>26</td><td>22</td><td>29.91</td><td>0.00</td></tr>\n",
       "\t<tr><th scope=row>5717</th><td> 52</td><td>18</td><td> 8</td><td>30.00</td><td>0.00</td></tr>\n",
       "\t<tr><th scope=row>5718</th><td>100</td><td>40</td><td> 9</td><td>30.00</td><td>0.03</td></tr>\n",
       "\t<tr><th scope=row>5719</th><td> 49</td><td>57</td><td>16</td><td>29.90</td><td>0.00</td></tr>\n",
       "\t<tr><th scope=row>5720</th><td> 66</td><td>67</td><td>16</td><td>30.26</td><td>0.00</td></tr>\n",
       "\t<tr><th scope=row>5721</th><td> 97</td><td>38</td><td>17</td><td>29.65</td><td>0.01</td></tr>\n",
       "\t<tr><th scope=row>5722</th><td> 64</td><td>72</td><td> 9</td><td>30.21</td><td>0.00</td></tr>\n",
       "\t<tr><th scope=row>5723</th><td> 67</td><td>61</td><td> 6</td><td>29.72</td><td>0.00</td></tr>\n",
       "\t<tr><th scope=row>5724</th><td> NA</td><td>NA</td><td>NA</td><td>   NA</td><td>  NA</td></tr>\n",
       "\t<tr><th scope=row>5725</th><td> 48</td><td>53</td><td> 3</td><td>30.26</td><td>0.00</td></tr>\n",
       "\t<tr><th scope=row>5726</th><td> 75</td><td>32</td><td> 7</td><td>29.69</td><td>0.00</td></tr>\n",
       "\t<tr><th scope=row>5727</th><td> 52</td><td>38</td><td> 0</td><td>29.97</td><td>0.00</td></tr>\n",
       "</tbody>\n",
       "</table>\n"
      ],
      "text/latex": [
       "A data.frame: 5727 × 5\n",
       "\\begin{tabular}{r|lllll}\n",
       "  & relative\\_humidity & dry\\_bulb\\_temp\\_f & wind\\_speed & station\\_pressure & precip\\\\\n",
       "  & <int> & <int> & <int> & <dbl> & <dbl>\\\\\n",
       "\\hline\n",
       "\t1 & 46 & 83 & 13 & 29.99 & 0.00\\\\\n",
       "\t2 & 48 & 53 &  6 & 30.03 & 0.00\\\\\n",
       "\t3 & 89 & 36 & 13 & 30.12 & 0.00\\\\\n",
       "\t4 & 48 & 36 & 14 & 29.80 & 0.00\\\\\n",
       "\t5 & 61 & 39 & 11 & 30.50 & 0.00\\\\\n",
       "\t6 & 79 & 41 &  6 & 29.92 & 0.00\\\\\n",
       "\t7 & 51 & 19 &  0 & 30.40 & 0.00\\\\\n",
       "\t8 & 65 & 24 & 11 & 30.35 & 0.00\\\\\n",
       "\t9 & 90 & 54 & 11 & 30.03 & 0.06\\\\\n",
       "\t10 & 94 & 73 &  5 & 29.91 &   NA\\\\\n",
       "\t11 & 79 & 83 & 21 & 29.75 &   NA\\\\\n",
       "\t12 & 37 & 44 &  7 & 30.25 & 0.00\\\\\n",
       "\t13 & 72 & 57 & 17 & 29.84 & 0.00\\\\\n",
       "\t14 & 47 & 78 &  8 & 30.16 & 0.00\\\\\n",
       "\t15 & 84 & 75 &  3 & 30.17 & 0.00\\\\\n",
       "\t16 & 57 & 37 & 11 & 30.01 & 0.00\\\\\n",
       "\t17 & 37 & 73 & 13 & 29.96 & 0.00\\\\\n",
       "\t18 & 75 & 58 &  9 & 30.28 &   NA\\\\\n",
       "\t19 & 92 & 32 &  9 & 29.59 & 0.03\\\\\n",
       "\t20 & 79 & 42 &  3 & 30.10 &   NA\\\\\n",
       "\t21 & 94 & 68 & 18 & 29.68 & 0.03\\\\\n",
       "\t22 & 71 & 71 &  6 & 29.94 &   NA\\\\\n",
       "\t23 & 78 & 57 & 10 & 30.49 & 0.00\\\\\n",
       "\t24 & 55 & 73 & 15 & 29.84 & 0.00\\\\\n",
       "\t25 & 79 & 44 & 23 & 29.66 & 0.02\\\\\n",
       "\t26 & 83 & 55 &  3 & 30.11 &   NA\\\\\n",
       "\t27 & 74 & 75 & 14 & 29.78 & 0.00\\\\\n",
       "\t28 & 36 & 47 & 13 & 29.85 &   NA\\\\\n",
       "\t29 & 89 & 42 & 22 & 29.58 & 0.00\\\\\n",
       "\t30 & 42 & 24 & 22 & 29.79 & 0.00\\\\\n",
       "\t⋮ & ⋮ & ⋮ & ⋮ & ⋮ & ⋮\\\\\n",
       "\t5698 &  71 & 51 & 13 & 29.77 & 0.00\\\\\n",
       "\t5699 &  62 & 76 & 21 & 29.97 & 0.00\\\\\n",
       "\t5700 &  94 & 54 &  8 & 29.57 & 0.00\\\\\n",
       "\t5701 &  53 & 71 &  6 & 29.99 & 0.00\\\\\n",
       "\t5702 &  90 & 75 & 10 & 29.95 & 0.00\\\\\n",
       "\t5703 &  40 & 63 & 11 & 30.07 & 0.00\\\\\n",
       "\t5704 &  40 & 46 & 14 & 30.30 & 0.00\\\\\n",
       "\t5705 &  67 & 84 &  8 & 29.83 & 0.00\\\\\n",
       "\t5706 &  60 & 75 &  9 & 29.98 & 0.00\\\\\n",
       "\t5707 &  87 & 58 & 10 & 29.87 & 0.02\\\\\n",
       "\t5708 &  54 & 34 &  7 & 30.63 & 0.00\\\\\n",
       "\t5709 &  79 & 74 & 14 & 29.97 & 0.00\\\\\n",
       "\t5710 &  79 & 67 &  5 & 30.17 &   NA\\\\\n",
       "\t5711 &  57 & 36 & 20 & 29.72 & 0.00\\\\\n",
       "\t5712 &  71 & 67 &  7 & 29.88 & 0.00\\\\\n",
       "\t5713 &  54 & 19 &  9 & 30.36 & 0.00\\\\\n",
       "\t5714 &  34 & 54 & 13 & 29.97 & 0.00\\\\\n",
       "\t5715 &  32 & 18 & 20 & 30.48 & 0.00\\\\\n",
       "\t5716 &  78 & 26 & 22 & 29.91 & 0.00\\\\\n",
       "\t5717 &  52 & 18 &  8 & 30.00 & 0.00\\\\\n",
       "\t5718 & 100 & 40 &  9 & 30.00 & 0.03\\\\\n",
       "\t5719 &  49 & 57 & 16 & 29.90 & 0.00\\\\\n",
       "\t5720 &  66 & 67 & 16 & 30.26 & 0.00\\\\\n",
       "\t5721 &  97 & 38 & 17 & 29.65 & 0.01\\\\\n",
       "\t5722 &  64 & 72 &  9 & 30.21 & 0.00\\\\\n",
       "\t5723 &  67 & 61 &  6 & 29.72 & 0.00\\\\\n",
       "\t5724 &  NA & NA & NA &    NA &   NA\\\\\n",
       "\t5725 &  48 & 53 &  3 & 30.26 & 0.00\\\\\n",
       "\t5726 &  75 & 32 &  7 & 29.69 & 0.00\\\\\n",
       "\t5727 &  52 & 38 &  0 & 29.97 & 0.00\\\\\n",
       "\\end{tabular}\n"
      ],
      "text/markdown": [
       "\n",
       "A data.frame: 5727 × 5\n",
       "\n",
       "| <!--/--> | relative_humidity &lt;int&gt; | dry_bulb_temp_f &lt;int&gt; | wind_speed &lt;int&gt; | station_pressure &lt;dbl&gt; | precip &lt;dbl&gt; |\n",
       "|---|---|---|---|---|---|\n",
       "| 1 | 46 | 83 | 13 | 29.99 | 0.00 |\n",
       "| 2 | 48 | 53 |  6 | 30.03 | 0.00 |\n",
       "| 3 | 89 | 36 | 13 | 30.12 | 0.00 |\n",
       "| 4 | 48 | 36 | 14 | 29.80 | 0.00 |\n",
       "| 5 | 61 | 39 | 11 | 30.50 | 0.00 |\n",
       "| 6 | 79 | 41 |  6 | 29.92 | 0.00 |\n",
       "| 7 | 51 | 19 |  0 | 30.40 | 0.00 |\n",
       "| 8 | 65 | 24 | 11 | 30.35 | 0.00 |\n",
       "| 9 | 90 | 54 | 11 | 30.03 | 0.06 |\n",
       "| 10 | 94 | 73 |  5 | 29.91 |   NA |\n",
       "| 11 | 79 | 83 | 21 | 29.75 |   NA |\n",
       "| 12 | 37 | 44 |  7 | 30.25 | 0.00 |\n",
       "| 13 | 72 | 57 | 17 | 29.84 | 0.00 |\n",
       "| 14 | 47 | 78 |  8 | 30.16 | 0.00 |\n",
       "| 15 | 84 | 75 |  3 | 30.17 | 0.00 |\n",
       "| 16 | 57 | 37 | 11 | 30.01 | 0.00 |\n",
       "| 17 | 37 | 73 | 13 | 29.96 | 0.00 |\n",
       "| 18 | 75 | 58 |  9 | 30.28 |   NA |\n",
       "| 19 | 92 | 32 |  9 | 29.59 | 0.03 |\n",
       "| 20 | 79 | 42 |  3 | 30.10 |   NA |\n",
       "| 21 | 94 | 68 | 18 | 29.68 | 0.03 |\n",
       "| 22 | 71 | 71 |  6 | 29.94 |   NA |\n",
       "| 23 | 78 | 57 | 10 | 30.49 | 0.00 |\n",
       "| 24 | 55 | 73 | 15 | 29.84 | 0.00 |\n",
       "| 25 | 79 | 44 | 23 | 29.66 | 0.02 |\n",
       "| 26 | 83 | 55 |  3 | 30.11 |   NA |\n",
       "| 27 | 74 | 75 | 14 | 29.78 | 0.00 |\n",
       "| 28 | 36 | 47 | 13 | 29.85 |   NA |\n",
       "| 29 | 89 | 42 | 22 | 29.58 | 0.00 |\n",
       "| 30 | 42 | 24 | 22 | 29.79 | 0.00 |\n",
       "| ⋮ | ⋮ | ⋮ | ⋮ | ⋮ | ⋮ |\n",
       "| 5698 |  71 | 51 | 13 | 29.77 | 0.00 |\n",
       "| 5699 |  62 | 76 | 21 | 29.97 | 0.00 |\n",
       "| 5700 |  94 | 54 |  8 | 29.57 | 0.00 |\n",
       "| 5701 |  53 | 71 |  6 | 29.99 | 0.00 |\n",
       "| 5702 |  90 | 75 | 10 | 29.95 | 0.00 |\n",
       "| 5703 |  40 | 63 | 11 | 30.07 | 0.00 |\n",
       "| 5704 |  40 | 46 | 14 | 30.30 | 0.00 |\n",
       "| 5705 |  67 | 84 |  8 | 29.83 | 0.00 |\n",
       "| 5706 |  60 | 75 |  9 | 29.98 | 0.00 |\n",
       "| 5707 |  87 | 58 | 10 | 29.87 | 0.02 |\n",
       "| 5708 |  54 | 34 |  7 | 30.63 | 0.00 |\n",
       "| 5709 |  79 | 74 | 14 | 29.97 | 0.00 |\n",
       "| 5710 |  79 | 67 |  5 | 30.17 |   NA |\n",
       "| 5711 |  57 | 36 | 20 | 29.72 | 0.00 |\n",
       "| 5712 |  71 | 67 |  7 | 29.88 | 0.00 |\n",
       "| 5713 |  54 | 19 |  9 | 30.36 | 0.00 |\n",
       "| 5714 |  34 | 54 | 13 | 29.97 | 0.00 |\n",
       "| 5715 |  32 | 18 | 20 | 30.48 | 0.00 |\n",
       "| 5716 |  78 | 26 | 22 | 29.91 | 0.00 |\n",
       "| 5717 |  52 | 18 |  8 | 30.00 | 0.00 |\n",
       "| 5718 | 100 | 40 |  9 | 30.00 | 0.03 |\n",
       "| 5719 |  49 | 57 | 16 | 29.90 | 0.00 |\n",
       "| 5720 |  66 | 67 | 16 | 30.26 | 0.00 |\n",
       "| 5721 |  97 | 38 | 17 | 29.65 | 0.01 |\n",
       "| 5722 |  64 | 72 |  9 | 30.21 | 0.00 |\n",
       "| 5723 |  67 | 61 |  6 | 29.72 | 0.00 |\n",
       "| 5724 |  NA | NA | NA |    NA |   NA |\n",
       "| 5725 |  48 | 53 |  3 | 30.26 | 0.00 |\n",
       "| 5726 |  75 | 32 |  7 | 29.69 | 0.00 |\n",
       "| 5727 |  52 | 38 |  0 | 29.97 | 0.00 |\n",
       "\n"
      ],
      "text/plain": [
       "     relative_humidity dry_bulb_temp_f wind_speed station_pressure precip\n",
       "1    46                83              13         29.99            0.00  \n",
       "2    48                53               6         30.03            0.00  \n",
       "3    89                36              13         30.12            0.00  \n",
       "4    48                36              14         29.80            0.00  \n",
       "5    61                39              11         30.50            0.00  \n",
       "6    79                41               6         29.92            0.00  \n",
       "7    51                19               0         30.40            0.00  \n",
       "8    65                24              11         30.35            0.00  \n",
       "9    90                54              11         30.03            0.06  \n",
       "10   94                73               5         29.91              NA  \n",
       "11   79                83              21         29.75              NA  \n",
       "12   37                44               7         30.25            0.00  \n",
       "13   72                57              17         29.84            0.00  \n",
       "14   47                78               8         30.16            0.00  \n",
       "15   84                75               3         30.17            0.00  \n",
       "16   57                37              11         30.01            0.00  \n",
       "17   37                73              13         29.96            0.00  \n",
       "18   75                58               9         30.28              NA  \n",
       "19   92                32               9         29.59            0.03  \n",
       "20   79                42               3         30.10              NA  \n",
       "21   94                68              18         29.68            0.03  \n",
       "22   71                71               6         29.94              NA  \n",
       "23   78                57              10         30.49            0.00  \n",
       "24   55                73              15         29.84            0.00  \n",
       "25   79                44              23         29.66            0.02  \n",
       "26   83                55               3         30.11              NA  \n",
       "27   74                75              14         29.78            0.00  \n",
       "28   36                47              13         29.85              NA  \n",
       "29   89                42              22         29.58            0.00  \n",
       "30   42                24              22         29.79            0.00  \n",
       "⋮    ⋮                 ⋮               ⋮          ⋮                ⋮     \n",
       "5698  71               51              13         29.77            0.00  \n",
       "5699  62               76              21         29.97            0.00  \n",
       "5700  94               54               8         29.57            0.00  \n",
       "5701  53               71               6         29.99            0.00  \n",
       "5702  90               75              10         29.95            0.00  \n",
       "5703  40               63              11         30.07            0.00  \n",
       "5704  40               46              14         30.30            0.00  \n",
       "5705  67               84               8         29.83            0.00  \n",
       "5706  60               75               9         29.98            0.00  \n",
       "5707  87               58              10         29.87            0.02  \n",
       "5708  54               34               7         30.63            0.00  \n",
       "5709  79               74              14         29.97            0.00  \n",
       "5710  79               67               5         30.17              NA  \n",
       "5711  57               36              20         29.72            0.00  \n",
       "5712  71               67               7         29.88            0.00  \n",
       "5713  54               19               9         30.36            0.00  \n",
       "5714  34               54              13         29.97            0.00  \n",
       "5715  32               18              20         30.48            0.00  \n",
       "5716  78               26              22         29.91            0.00  \n",
       "5717  52               18               8         30.00            0.00  \n",
       "5718 100               40               9         30.00            0.03  \n",
       "5719  49               57              16         29.90            0.00  \n",
       "5720  66               67              16         30.26            0.00  \n",
       "5721  97               38              17         29.65            0.01  \n",
       "5722  64               72               9         30.21            0.00  \n",
       "5723  67               61               6         29.72            0.00  \n",
       "5724  NA               NA              NA            NA              NA  \n",
       "5725  48               53               3         30.26            0.00  \n",
       "5726  75               32               7         29.69            0.00  \n",
       "5727  52               38               0         29.97            0.00  "
      ]
     },
     "metadata": {},
     "output_type": "display_data"
    }
   ],
   "source": [
    "df_rename<-rename(Final_data,relative_humidity=weather.HOURLYRelativeHumidity,\n",
    "                  dry_bulb_temp_f= weather.HOURLYDRYBULBTEMPF,\n",
    "                  precip= Hourlypre,\n",
    "                  wind_speed= weather.HOURLYWindSpeed,\n",
    "                  station_pressure= weather.HOURLYStationPressure)\n",
    "df_rename"
   ]
  },
  {
   "cell_type": "markdown",
   "metadata": {},
   "source": [
    "<a id=\"cell7\"></a>\n",
    "## 7. Exploratory Data Analysis\n",
    "Now that you have finished preprocessing the dataset, you can can start exploring the columns more.\n",
    "\n",
    "First, split the data into a training and testing set. Splitting a dataset is done randomly, so to have reproducible results set the seed = 1234. Also, use 80% of the data for training.\n"
   ]
  },
  {
   "cell_type": "code",
   "execution_count": 16,
   "metadata": {},
   "outputs": [],
   "source": [
    "set.seed(1234)\n",
    "data_split<-initial_split(df_rename,prop = 0.8)# split test&train data\n",
    "train<-training(data_split)\n",
    "test<-testing(data_split)\n"
   ]
  },
  {
   "cell_type": "markdown",
   "metadata": {},
   "source": [
    "Next, looking at just the **training set**, plot histograms or box plots of the variables (`relative_humidity`, `dry_bulb_temp_f`, `precip`, `wind_speed`,  `station_pressure`) for an intial look of their distributions using `tidyverse`'s `ggplot`. Leave the testing set as is because it is good practice to not see the testing set until evaluating the final model.\n"
   ]
  },
  {
   "cell_type": "code",
   "execution_count": 17,
   "metadata": {},
   "outputs": [
    {
     "name": "stderr",
     "output_type": "stream",
     "text": [
      "Warning message:\n",
      "“Removed 127 rows containing non-finite values (stat_bin).”"
     ]
    },
    {
     "data": {},
     "metadata": {},
     "output_type": "display_data"
    },
    {
     "name": "stderr",
     "output_type": "stream",
     "text": [
      "Warning message:\n",
      "“Removed 127 rows containing non-finite values (stat_bin).”"
     ]
    },
    {
     "data": {},
     "metadata": {},
     "output_type": "display_data"
    },
    {
     "data": {
      "image/png": "[encoded data removed]",
      "text/plain": [
       "plot without title"
      ]
     },
     "metadata": {},
     "output_type": "display_data",
     "source": "R display func"
    },
    {
     "name": "stderr",
     "output_type": "stream",
     "text": [
      "Warning message:\n",
      "“Removed 1328 rows containing non-finite values (stat_bin).”"
     ]
    },
    {
     "data": {},
     "metadata": {},
     "output_type": "display_data"
    },
    {
     "data": {
      "image/png": "[encoded data removed]",
      "text/plain": [
       "plot without title"
      ]
     },
     "metadata": {},
     "output_type": "display_data",
     "source": "R display func"
    },
    {
     "name": "stderr",
     "output_type": "stream",
     "text": [
      "Warning message:\n",
      "“Removed 132 rows containing non-finite values (stat_bin).”"
     ]
    },
    {
     "data": {},
     "metadata": {},
     "output_type": "display_data"
    },
    {
     "data": {
      "image/png": "[encoded data removed]",
      "text/plain": [
       "plot without title"
      ]
     },
     "metadata": {},
     "output_type": "display_data",
     "source": "R display func"
    },
    {
     "name": "stderr",
     "output_type": "stream",
     "text": [
      "Warning message:\n",
      "“Removed 133 rows containing non-finite values (stat_bin).”"
     ]
    },
    {
     "data": {},
     "metadata": {},
     "output_type": "display_data"
    },
    {
     "data": {
      "image/png": "[encoded data removed]",
      "text/plain": [
       "plot without title"
      ]
     },
     "metadata": {},
     "output_type": "display_data",
     "source": "R display func"
    },
    {
     "data": {
      "image/png": "[encoded data removed]",
      "text/plain": [
       "plot without title"
      ]
     },
     "metadata": {},
     "output_type": "display_data",
     "source": "R display func"
    }
   ],
   "source": [
    "ggplot(train, aes(x = relative_humidity )) + \n",
    "  geom_histogram(color = \"black\", fill = \"lightblue\", binwidth = 2) +\n",
    "  labs(title = \"Histogram of relative_humidity\")\n",
    "ggplot(train, aes(x = dry_bulb_temp_f )) + \n",
    "  geom_histogram(color = \"black\", fill = \"lightblue\", binwidth = 2) +\n",
    "  labs(title = \"dry_bulb_temp_f\")\n",
    "ggplot(train, aes(x = precip )) + \n",
    "  geom_histogram(color = \"black\", fill = \"lightblue\", binwidth = 2) +\n",
    "  labs(title = \"precip\") \n",
    "ggplot(train, aes(x = wind_speed )) + \n",
    "  geom_histogram(color = \"black\", fill = \"lightblue\", binwidth = 2) +\n",
    "  labs(title = \"wind_speed\")\n",
    "ggplot(train, aes(x = station_pressure )) + \n",
    "  geom_histogram(color = \"black\", fill = \"lightblue\", binwidth = 2) +\n",
    "  labs(title = \"station_pressure\")"
   ]
  },
  {
   "cell_type": "markdown",
   "metadata": {},
   "source": [
    "<a id=\"cell8\"></a>\n",
    "## 8. Linear Regression \n",
    "After exploring the dataset more, you are now ready to start creating models to predict the precipitation (`precip`).\n",
    "\n",
    "Create simple linear regression models where `precip` is the response variable and each of `relative_humidity`, `dry_bulb_temp_f`,`wind_speed` or `station_pressure` will be a predictor variable, e.g. `precip ~ relative_humidity`, `precip ~ dry_bulb_temp_f`, etc. for a total of four simple models. \n",
    "Additionally, visualize each simple model with a scatter plot.\n"
   ]
  },
  {
   "cell_type": "code",
   "execution_count": 18,
   "metadata": {},
   "outputs": [
    {
     "data": {
      "text/plain": [
       "\n",
       "Call:\n",
       "lm(formula = precip ~ relative_humidity, data = train)\n",
       "\n",
       "Residuals:\n",
       "     Min       1Q   Median       3Q      Max \n",
       "-0.02102 -0.01125 -0.00488  0.00233  1.17068 \n",
       "\n",
       "Coefficients:\n",
       "                    Estimate Std. Error t value Pr(>|t|)    \n",
       "(Intercept)       -2.144e-02  2.540e-03   -8.44   <2e-16 ***\n",
       "relative_humidity  4.245e-04  3.681e-05   11.53   <2e-16 ***\n",
       "---\n",
       "Signif. codes:  0 ‘***’ 0.001 ‘**’ 0.01 ‘*’ 0.05 ‘.’ 0.1 ‘ ’ 1\n",
       "\n",
       "Residual standard error: 0.04178 on 3252 degrees of freedom\n",
       "  (1328 observations deleted due to missingness)\n",
       "Multiple R-squared:  0.0393,\tAdjusted R-squared:  0.039 \n",
       "F-statistic:   133 on 1 and 3252 DF,  p-value: < 2.2e-16\n"
      ]
     },
     "metadata": {},
     "output_type": "display_data"
    },
    {
     "name": "stderr",
     "output_type": "stream",
     "text": [
      "Warning message:\n",
      "“Removed 1328 rows containing non-finite values (stat_smooth).”Warning message:\n",
      "“Removed 1328 rows containing missing values (geom_point).”"
     ]
    },
    {
     "data": {},
     "metadata": {},
     "output_type": "display_data"
    },
    {
     "data": {
      "image/png": "[encoded data removed]",
      "text/plain": [
       "plot without title"
      ]
     },
     "metadata": {},
     "output_type": "display_data",
     "source": "R display func"
    }
   ],
   "source": [
    "model<-lm(precip ~ relative_humidity,data=train)\n",
    "summary(model)\n",
    "ggplot(train, aes(x = relative_humidity, y = precip)) + \n",
    "  geom_point() + \n",
    "  geom_smooth(method = \"lm\", formula = y ~ x, se = FALSE, color = \"red\") +\n",
    "  labs(title = \"Scatter plot with Simple Linear Regression\", x = \"relative_humidity\", y = \"precip\")"
   ]
  },
  {
   "cell_type": "code",
   "execution_count": 19,
   "metadata": {},
   "outputs": [
    {
     "data": {
      "text/plain": [
       "\n",
       "Call:\n",
       "lm(formula = precip ~ dry_bulb_temp_f, data = train)\n",
       "\n",
       "Residuals:\n",
       "     Min       1Q   Median       3Q      Max \n",
       "-0.00714 -0.00673 -0.00656 -0.00641  1.18352 \n",
       "\n",
       "Coefficients:\n",
       "                  Estimate Std. Error t value Pr(>|t|)   \n",
       "(Intercept)      7.192e-03  2.514e-03   2.861  0.00425 **\n",
       "dry_bulb_temp_f -1.043e-05  4.327e-05  -0.241  0.80955   \n",
       "---\n",
       "Signif. codes:  0 ‘***’ 0.001 ‘**’ 0.01 ‘*’ 0.05 ‘.’ 0.1 ‘ ’ 1\n",
       "\n",
       "Residual standard error: 0.04262 on 3252 degrees of freedom\n",
       "  (1328 observations deleted due to missingness)\n",
       "Multiple R-squared:  1.786e-05,\tAdjusted R-squared:  -0.0002896 \n",
       "F-statistic: 0.05809 on 1 and 3252 DF,  p-value: 0.8096\n"
      ]
     },
     "metadata": {},
     "output_type": "display_data"
    },
    {
     "name": "stderr",
     "output_type": "stream",
     "text": [
      "Don't know how to automatically pick scale for object of type formula. Defaulting to continuous.\n",
      "ERROR while rich displaying an object: Error: Aesthetics must be valid data columns. Problematic aesthetic(s): x = precip ~ dry_bulb_temp_f. \n",
      "Did you mistype the name of a data column or forget to add after_stat()?\n",
      "\n",
      "Traceback:\n",
      "1. FUN(X[[i]], ...)\n",
      "2. tryCatch(withCallingHandlers({\n",
      " .     if (!mime %in% names(repr::mime2repr)) \n",
      " .         stop(\"No repr_* for mimetype \", mime, \" in repr::mime2repr\")\n",
      " .     rpr <- repr::mime2repr[[mime]](obj)\n",
      " .     if (is.null(rpr)) \n",
      " .         return(NULL)\n",
      " .     prepare_content(is.raw(rpr), rpr)\n",
      " . }, error = error_handler), error = outer_handler)\n",
      "3. tryCatchList(expr, classes, parentenv, handlers)\n",
      "4. tryCatchOne(expr, names, parentenv, handlers[[1L]])\n",
      "5. doTryCatch(return(expr), name, parentenv, handler)\n",
      "6. withCallingHandlers({\n",
      " .     if (!mime %in% names(repr::mime2repr)) \n",
      " .         stop(\"No repr_* for mimetype \", mime, \" in repr::mime2repr\")\n",
      " .     rpr <- repr::mime2repr[[mime]](obj)\n",
      " .     if (is.null(rpr)) \n",
      " .         return(NULL)\n",
      " .     prepare_content(is.raw(rpr), rpr)\n",
      " . }, error = error_handler)\n",
      "7. repr::mime2repr[[mime]](obj)\n",
      "8. repr_text.default(obj)\n",
      "9. paste(capture.output(print(obj)), collapse = \"\\n\")\n",
      "10. capture.output(print(obj))\n",
      "11. evalVis(expr)\n",
      "12. withVisible(eval(expr, pf))\n",
      "13. eval(expr, pf)\n",
      "14. eval(expr, pf)\n",
      "15. print(obj)\n",
      "16. print.ggplot(obj)\n",
      "17. ggplot_build(x)\n",
      "18. ggplot_build.ggplot(x)\n",
      "19. by_layer(function(l, d) l$compute_aesthetics(d, plot))\n",
      "20. f(l = layers[[i]], d = data[[i]])\n",
      "21. l$compute_aesthetics(d, plot)\n",
      "22. f(..., self = self)\n",
      "23. abort(msg)\n",
      "24. signal_abort(cnd)\n"
     ]
    },
    {
     "data": {},
     "metadata": {},
     "output_type": "display_data"
    },
    {
     "data": {
      "image/png": "[encoded data removed]",
      "text/plain": [
       "plot without title"
      ]
     },
     "metadata": {},
     "output_type": "display_data",
     "source": "R display func"
    }
   ],
   "source": [
    "model<-lm(precip ~  dry_bulb_temp_f,data=train)\n",
    "summary(model)\n",
    "ggplot(train, aes(x = precip ~ dry_bulb_temp_f, y = precip)) + \n",
    "  geom_point() + \n",
    "  geom_smooth(method = \"lm\", formula = y ~ x, se = FALSE, color = \"red\") +\n",
    "  labs(title = \"Scatter plot with Simple Linear Regression\", x = \"precip ~ dry_bulb_temp_f\", y = \"precip\")\n",
    " "
   ]
  },
  {
   "cell_type": "code",
   "execution_count": 20,
   "metadata": {},
   "outputs": [
    {
     "data": {
      "text/plain": [
       "\n",
       "Call:\n",
       "lm(formula = precip ~ wind_speed, data = train)\n",
       "\n",
       "Residuals:\n",
       "     Min       1Q   Median       3Q      Max \n",
       "-0.02669 -0.00792 -0.00545 -0.00397  1.17813 \n",
       "\n",
       "Coefficients:\n",
       "             Estimate Std. Error t value Pr(>|t|)    \n",
       "(Intercept) 0.0010088  0.0015340   0.658    0.511    \n",
       "wind_speed  0.0004938  0.0001181   4.180 2.99e-05 ***\n",
       "---\n",
       "Signif. codes:  0 ‘***’ 0.001 ‘**’ 0.01 ‘*’ 0.05 ‘.’ 0.1 ‘ ’ 1\n",
       "\n",
       "Residual standard error: 0.04251 on 3252 degrees of freedom\n",
       "  (1328 observations deleted due to missingness)\n",
       "Multiple R-squared:  0.005344,\tAdjusted R-squared:  0.005038 \n",
       "F-statistic: 17.47 on 1 and 3252 DF,  p-value: 2.994e-05\n"
      ]
     },
     "metadata": {},
     "output_type": "display_data"
    },
    {
     "name": "stderr",
     "output_type": "stream",
     "text": [
      "Warning message:\n",
      "“Removed 1328 rows containing non-finite values (stat_smooth).”Warning message:\n",
      "“Removed 1328 rows containing missing values (geom_point).”"
     ]
    },
    {
     "data": {},
     "metadata": {},
     "output_type": "display_data"
    },
    {
     "data": {
      "image/png": "[encoded data removed]",
      "text/plain": [
       "plot without title"
      ]
     },
     "metadata": {},
     "output_type": "display_data",
     "source": "R display func"
    }
   ],
   "source": [
    "model<-lm(precip ~ wind_speed,data=train)\n",
    "summary(model)\n",
    "ggplot(train, aes(x = wind_speed, y = precip)) + \n",
    "  geom_point() + \n",
    "  geom_smooth(method = \"lm\", formula = y ~ x, se = FALSE, color = \"red\") +\n",
    "  labs(title = \"Scatter plot with Simple Linear Regression\", x = \"wind_speed\", y = \"precip\")\n"
   ]
  },
  {
   "cell_type": "code",
   "execution_count": 21,
   "metadata": {},
   "outputs": [
    {
     "data": {
      "text/plain": [
       "\n",
       "Call:\n",
       "lm(formula = precip ~ station_pressure, data = train)\n",
       "\n",
       "Residuals:\n",
       "     Min       1Q   Median       3Q      Max \n",
       "-0.03534 -0.00906 -0.00575 -0.00178  1.17674 \n",
       "\n",
       "Coefficients:\n",
       "                  Estimate Std. Error t value Pr(>|t|)    \n",
       "(Intercept)       0.668715   0.091359   7.320 3.12e-13 ***\n",
       "station_pressure -0.022077   0.003046  -7.248 5.27e-13 ***\n",
       "---\n",
       "Signif. codes:  0 ‘***’ 0.001 ‘**’ 0.01 ‘*’ 0.05 ‘.’ 0.1 ‘ ’ 1\n",
       "\n",
       "Residual standard error: 0.04229 on 3249 degrees of freedom\n",
       "  (1331 observations deleted due to missingness)\n",
       "Multiple R-squared:  0.01591,\tAdjusted R-squared:  0.01561 \n",
       "F-statistic: 52.53 on 1 and 3249 DF,  p-value: 5.271e-13\n"
      ]
     },
     "metadata": {},
     "output_type": "display_data"
    },
    {
     "name": "stderr",
     "output_type": "stream",
     "text": [
      "Warning message:\n",
      "“Removed 1331 rows containing non-finite values (stat_smooth).”Warning message:\n",
      "“Removed 1331 rows containing missing values (geom_point).”"
     ]
    },
    {
     "data": {},
     "metadata": {},
     "output_type": "display_data"
    },
    {
     "data": {
      "image/png": "[encoded data removed]",
      "text/plain": [
       "plot without title"
      ]
     },
     "metadata": {},
     "output_type": "display_data",
     "source": "R display func"
    }
   ],
   "source": [
    "model<-lm(precip ~ station_pressure,data=train)\n",
    "summary(model)\n",
    "ggplot(train, aes(x = station_pressure, y = precip)) + \n",
    "  geom_point() + \n",
    "  geom_smooth(method = \"lm\", formula = y ~ x, se = FALSE, color = \"red\") +\n",
    "  labs(title = \"Scatter plot with Simple Linear Regression\", x = \"station_pressure\", y = \"precip\")\n",
    "\n"
   ]
  },
  {
   "cell_type": "markdown",
   "metadata": {},
   "source": [
    "<a id=\"cell9\"></a>\n",
    "## 9. Improve the Model\n",
    "Now, try improving the simple models you created in the previous section. \n",
    "\n",
    "Create at least two more models, each model should use at least one of the different techniques:\n",
    "1. Add more features/predictors\n",
    "2. Add regularization (L1, L2 or a mix)\n",
    "3. Add a polynomial component\n",
    "\n",
    "Also, for each of the models you create, check the model performance using the **training set** and a metric like MSE, RMSE, or R-squared.\n",
    "\n",
    "Consider using `tidymodels` if you choose to add regularization and tune lambda.\n"
   ]
  },
  {
   "cell_type": "code",
   "execution_count": 24,
   "metadata": {},
   "outputs": [
    {
     "data": {
      "text/html": [
       "<table>\n",
       "<caption>A tibble: 1 × 3</caption>\n",
       "<thead>\n",
       "\t<tr><th scope=col>.metric</th><th scope=col>.estimator</th><th scope=col>.estimate</th></tr>\n",
       "\t<tr><th scope=col>&lt;chr&gt;</th><th scope=col>&lt;chr&gt;</th><th scope=col>&lt;dbl&gt;</th></tr>\n",
       "</thead>\n",
       "<tbody>\n",
       "\t<tr><td>rsq</td><td>standard</td><td>0.01728342</td></tr>\n",
       "</tbody>\n",
       "</table>\n"
      ],
      "text/latex": [
       "A tibble: 1 × 3\n",
       "\\begin{tabular}{lll}\n",
       " .metric & .estimator & .estimate\\\\\n",
       " <chr> & <chr> & <dbl>\\\\\n",
       "\\hline\n",
       "\t rsq & standard & 0.01728342\\\\\n",
       "\\end{tabular}\n"
      ],
      "text/markdown": [
       "\n",
       "A tibble: 1 × 3\n",
       "\n",
       "| .metric &lt;chr&gt; | .estimator &lt;chr&gt; | .estimate &lt;dbl&gt; |\n",
       "|---|---|---|\n",
       "| rsq | standard | 0.01728342 |\n",
       "\n"
      ],
      "text/plain": [
       "  .metric .estimator .estimate \n",
       "1 rsq     standard   0.01728342"
      ]
     },
     "metadata": {},
     "output_type": "display_data"
    }
   ],
   "source": [
    "model_1<-linear_reg()%>%\n",
    "  set_engine(engine = \"lm\")\n",
    "train_fit<-model_1%>%\n",
    "  fit(precip ~ station_pressure+wind_speed,data=train)\n",
    "train_results<-train_fit%>%\n",
    "  predict(new_data=train)%>% \n",
    "  mutate(truth=train$precip)\n",
    "rsq(train_results,truth=truth,estimate = .pred)\n",
    "\n",
    "\n"
   ]
  },
  {
   "cell_type": "code",
   "execution_count": 25,
   "metadata": {},
   "outputs": [
    {
     "name": "stderr",
     "output_type": "stream",
     "text": [
      "Warning message in predict.lm(object = object$fit, newdata = new_data, type = \"response\"):\n",
      "“prediction from a rank-deficient fit may be misleading”"
     ]
    },
    {
     "data": {
      "text/html": [
       "<table>\n",
       "<caption>A tibble: 1 × 3</caption>\n",
       "<thead>\n",
       "\t<tr><th scope=col>.metric</th><th scope=col>.estimator</th><th scope=col>.estimate</th></tr>\n",
       "\t<tr><th scope=col>&lt;chr&gt;</th><th scope=col>&lt;chr&gt;</th><th scope=col>&lt;dbl&gt;</th></tr>\n",
       "</thead>\n",
       "<tbody>\n",
       "\t<tr><td>rsq</td><td>standard</td><td>0.0185814</td></tr>\n",
       "</tbody>\n",
       "</table>\n"
      ],
      "text/latex": [
       "A tibble: 1 × 3\n",
       "\\begin{tabular}{lll}\n",
       " .metric & .estimator & .estimate\\\\\n",
       " <chr> & <chr> & <dbl>\\\\\n",
       "\\hline\n",
       "\t rsq & standard & 0.0185814\\\\\n",
       "\\end{tabular}\n"
      ],
      "text/markdown": [
       "\n",
       "A tibble: 1 × 3\n",
       "\n",
       "| .metric &lt;chr&gt; | .estimator &lt;chr&gt; | .estimate &lt;dbl&gt; |\n",
       "|---|---|---|\n",
       "| rsq | standard | 0.0185814 |\n",
       "\n"
      ],
      "text/plain": [
       "  .metric .estimator .estimate\n",
       "1 rsq     standard   0.0185814"
      ]
     },
     "metadata": {},
     "output_type": "display_data"
    }
   ],
   "source": [
    "model_2<-linear_reg()%>%\n",
    "  set_engine(engine = \"lm\")\n",
    "train_fit<-model_2%>%\n",
    "  fit(precip~poly(station_pressure,9,raw=TRUE),data=train)\n",
    "train_results<-train_fit%>%\n",
    "  predict(new_data=train)%>% \n",
    "  mutate(truth=train$precip)\n",
    "rsq(train_results,truth=truth,estimate = .pred)\n"
   ]
  },
  {
   "cell_type": "code",
   "execution_count": null,
   "metadata": {},
   "outputs": [],
   "source": []
  },
  {
   "cell_type": "markdown",
   "metadata": {},
   "source": [
    "<a id=\"cell10\"></a>\n",
    "## 10. Find Best Model\n",
    "Compare the regression metrics of each model from section 9 to find the best model overall. To do this, \n",
    "\n",
    "1. Evaluate the models on the **testing set** using at least one metric (like MSE, RMSE or R-squared).\n",
    "2. After calculating the metrics on the testing set for each model, print them out in as a table to easily compare. You can use something like:\n",
    "```\n",
    "model_names <- c(\"model_1\", \"model_2\", \"model_3\")\n",
    "train_error <- c(\"model_1_value\", \"model_2_value\", \"model_3_value\")\n",
    "test_error <- c(\"model_1_value\", \"model_2_value\", \"model_3_value\")\n",
    "comparison_df <- data.frame(model_names, train_error, test_error)\n",
    "```\n",
    "3. Finally, from the comparison table you create, conclude which model performed the best.\n"
   ]
  },
  {
   "cell_type": "code",
   "execution_count": 26,
   "metadata": {},
   "outputs": [
    {
     "data": {
      "text/html": [
       "<table>\n",
       "<caption>A tibble: 1 × 3</caption>\n",
       "<thead>\n",
       "\t<tr><th scope=col>.metric</th><th scope=col>.estimator</th><th scope=col>.estimate</th></tr>\n",
       "\t<tr><th scope=col>&lt;chr&gt;</th><th scope=col>&lt;chr&gt;</th><th scope=col>&lt;dbl&gt;</th></tr>\n",
       "</thead>\n",
       "<tbody>\n",
       "\t<tr><td>rsq</td><td>standard</td><td>0.03412588</td></tr>\n",
       "</tbody>\n",
       "</table>\n"
      ],
      "text/latex": [
       "A tibble: 1 × 3\n",
       "\\begin{tabular}{lll}\n",
       " .metric & .estimator & .estimate\\\\\n",
       " <chr> & <chr> & <dbl>\\\\\n",
       "\\hline\n",
       "\t rsq & standard & 0.03412588\\\\\n",
       "\\end{tabular}\n"
      ],
      "text/markdown": [
       "\n",
       "A tibble: 1 × 3\n",
       "\n",
       "| .metric &lt;chr&gt; | .estimator &lt;chr&gt; | .estimate &lt;dbl&gt; |\n",
       "|---|---|---|\n",
       "| rsq | standard | 0.03412588 |\n",
       "\n"
      ],
      "text/plain": [
       "  .metric .estimator .estimate \n",
       "1 rsq     standard   0.03412588"
      ]
     },
     "metadata": {},
     "output_type": "display_data"
    }
   ],
   "source": [
    "train_fit<-model_1%>%\n",
    "  fit(precip ~ station_pressure+wind_speed,data=train)\n",
    "test_results<-train_fit%>%\n",
    "  predict(new_data=test)%>%         #predictions about test portion\n",
    "  mutate(truth=test$precip)  # add new column of real values\n",
    "rsq(test_results,truth=truth,estimate = .pred)"
   ]
  },
  {
   "cell_type": "code",
   "execution_count": 27,
   "metadata": {},
   "outputs": [
    {
     "name": "stderr",
     "output_type": "stream",
     "text": [
      "Warning message in predict.lm(object = object$fit, newdata = new_data, type = \"response\"):\n",
      "“prediction from a rank-deficient fit may be misleading”"
     ]
    },
    {
     "data": {
      "text/html": [
       "<table>\n",
       "<caption>A tibble: 1 × 3</caption>\n",
       "<thead>\n",
       "\t<tr><th scope=col>.metric</th><th scope=col>.estimator</th><th scope=col>.estimate</th></tr>\n",
       "\t<tr><th scope=col>&lt;chr&gt;</th><th scope=col>&lt;chr&gt;</th><th scope=col>&lt;dbl&gt;</th></tr>\n",
       "</thead>\n",
       "<tbody>\n",
       "\t<tr><td>rsq</td><td>standard</td><td>0.0393893</td></tr>\n",
       "</tbody>\n",
       "</table>\n"
      ],
      "text/latex": [
       "A tibble: 1 × 3\n",
       "\\begin{tabular}{lll}\n",
       " .metric & .estimator & .estimate\\\\\n",
       " <chr> & <chr> & <dbl>\\\\\n",
       "\\hline\n",
       "\t rsq & standard & 0.0393893\\\\\n",
       "\\end{tabular}\n"
      ],
      "text/markdown": [
       "\n",
       "A tibble: 1 × 3\n",
       "\n",
       "| .metric &lt;chr&gt; | .estimator &lt;chr&gt; | .estimate &lt;dbl&gt; |\n",
       "|---|---|---|\n",
       "| rsq | standard | 0.0393893 |\n",
       "\n"
      ],
      "text/plain": [
       "  .metric .estimator .estimate\n",
       "1 rsq     standard   0.0393893"
      ]
     },
     "metadata": {},
     "output_type": "display_data"
    }
   ],
   "source": [
    "train_fit<-model_2%>%\n",
    "  fit(precip~poly(station_pressure,9,raw=TRUE),data=train)\n",
    "test_results<-train_fit%>%\n",
    "  predict(new_data=test)%>%         #predictions about test portion\n",
    "  mutate(truth=test$precip)  # add new column of real values\n",
    "rsq(test_results,truth=truth,estimate = .pred)\n"
   ]
  },
  {
   "cell_type": "code",
   "execution_count": 30,
   "metadata": {},
   "outputs": [
    {
     "data": {
      "text/html": [
       "<table>\n",
       "<caption>A data.frame: 2 × 3</caption>\n",
       "<thead>\n",
       "\t<tr><th scope=col>model_names</th><th scope=col>train_rsq</th><th scope=col>test_rsq</th></tr>\n",
       "\t<tr><th scope=col>&lt;fct&gt;</th><th scope=col>&lt;fct&gt;</th><th scope=col>&lt;fct&gt;</th></tr>\n",
       "</thead>\n",
       "<tbody>\n",
       "\t<tr><td>model_1</td><td>0.016</td><td>0.041</td></tr>\n",
       "\t<tr><td>model_2</td><td>0.017</td><td>0.035</td></tr>\n",
       "</tbody>\n",
       "</table>\n"
      ],
      "text/latex": [
       "A data.frame: 2 × 3\n",
       "\\begin{tabular}{lll}\n",
       " model\\_names & train\\_rsq & test\\_rsq\\\\\n",
       " <fct> & <fct> & <fct>\\\\\n",
       "\\hline\n",
       "\t model\\_1 & 0.016 & 0.041\\\\\n",
       "\t model\\_2 & 0.017 & 0.035\\\\\n",
       "\\end{tabular}\n"
      ],
      "text/markdown": [
       "\n",
       "A data.frame: 2 × 3\n",
       "\n",
       "| model_names &lt;fct&gt; | train_rsq &lt;fct&gt; | test_rsq &lt;fct&gt; |\n",
       "|---|---|---|\n",
       "| model_1 | 0.016 | 0.041 |\n",
       "| model_2 | 0.017 | 0.035 |\n",
       "\n"
      ],
      "text/plain": [
       "  model_names train_rsq test_rsq\n",
       "1 model_1     0.016     0.041   \n",
       "2 model_2     0.017     0.035   "
      ]
     },
     "metadata": {},
     "output_type": "display_data"
    }
   ],
   "source": [
    "model_names <- c(\"model_1\", \"model_2\")\n",
    "train_rsq <- c(\"0.016\", \"0.017\")\n",
    "test_rsq <- c(\"0.041\", \"0.035\")\n",
    "comparison_df <- data.frame(model_names, train_rsq, test_rsq)\n",
    "comparison_df\n",
    "# model_1 is good"
   ]
  },
  {
   "cell_type": "markdown",
   "metadata": {},
   "source": [
    "## Author(s)\n",
    "\n",
    "<h4> Yiwen Li </h4>\n",
    "\n",
    "## Contributions\n",
    "\n",
    "<h4> Tiffany Zhu </h4>\n",
    "\n",
    "## <h3 align=\"center\"> © IBM Corporation 2021. All rights reserved. <h3/>\n"
   ]
  },
  {
   "cell_type": "code",
   "execution_count": null,
   "metadata": {},
   "outputs": [],
   "source": []
  }
 ],
 "metadata": {
  "kernelspec": {
   "display_name": "R",
   "language": "R",
   "name": "conda-env-r-r"
  },
  "language_info": {
   "codemirror_mode": "r",
   "file_extension": ".r",
   "mimetype": "text/x-r-source",
   "name": "R",
   "pygments_lexer": "r",
   "version": "3.5.1"
  }
 },
 "nbformat": 4,
 "nbformat_minor": 4
}
